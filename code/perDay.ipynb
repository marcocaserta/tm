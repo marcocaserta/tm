{
 "cells": [
  {
   "cell_type": "code",
   "execution_count": 3,
   "metadata": {
    "collapsed": false,
    "deletable": true,
    "editable": true
   },
   "outputs": [],
   "source": [
    "import os\n",
    "import csv\n",
    "import shutil\n",
    "import glob\n",
    "from nltk.corpus import stopwords\n",
    "from nltk import word_tokenize\n",
    "from os import path, listdir\n",
    "import collections\n",
    "from collections import namedtuple\n",
    "import numpy as np\n",
    "import matplotlib.pyplot as plt\n",
    "import pandas as pd\n",
    "\n",
    "folder = \"NEWS_TXT_v4/\"\n",
    "perDayFolders = \"v4/\"\n",
    "prefix = path.expanduser(\"~/gdrive/research/nlp/data/\")\n",
    "vocab_folder = \"google_vocab/\"\n",
    "stop_words = stopwords.words(\"english\")"
   ]
  },
  {
   "cell_type": "markdown",
   "metadata": {
    "deletable": true,
    "editable": true
   },
   "source": [
    "# Four Tasks\n",
    "\n",
    "-  Task 1: Files Preprocessing. Each press release should be preprocessed and stored on disk. These preprocessed files are the ones used to create the doc2vec model\n",
    "-  Task 2: doc2vec Model Generation. Progressively create doc2vec models, from year 0 to year \"t\", where t=1994,...,2015. These doc2vec models are stored within each year directory.\n",
    "-  Task 3: Distance Matrix Computation. Given a time period (a day, a month, etc.) load all the files belonging to that period (the corpus) and compute the distance matrix. This matric could be stored on disk.\n",
    "-  Task 4: Clustering. Use the distance matrix to carry out specific studies of press releases over time.\n",
    "\n",
    "In addition, there is also a Task 0, which is the restructuring and organization of the different folders. This is the first task carried out below."
   ]
  },
  {
   "cell_type": "markdown",
   "metadata": {
    "deletable": true,
    "editable": true
   },
   "source": [
    "## Task 0: Restructuring Directories and Moving Files\n",
    "\n",
    "Move each file in the corresponding year folder and, within the year, the corresponding day and month. For example, a file issued on January 21st, 2015 will be stored in the folder:\n",
    "\n",
    "-  2015/01_21/fullname.txt\n",
    "\n",
    "We also create a global mapping for all the files in the dataset. The mapping gives a unique identifier for each file in the dataset and it is saved in the file `mapping.txt`.\n"
   ]
  },
  {
   "cell_type": "code",
   "execution_count": null,
   "metadata": {
    "collapsed": false,
    "deletable": true,
    "editable": true
   },
   "outputs": [],
   "source": [
    "fmap = open(\"mapping.txt\", \"w\")\n",
    "\n",
    "fullpath = path.join(prefix,folder)\n",
    "for f in listdir(fullpath):\n",
    "    print(\"name is = \", f)\n",
    "    \n",
    "    fName = f[:-4]\n",
    "    print(\"Now fName is = \", fName)\n",
    "    fAux = fName.split(\"_\")\n",
    "    print(fAux)\n",
    "    year = fAux[1]\n",
    "    dirLevel1 = path.join(prefix,perDayFolders) + year\n",
    "    if not os.path.exists(dirLevel1):\n",
    "        os.makedirs(dirLevel1)\n",
    "    dirLevel2 = dirLevel1 + \"/\" + fAux[2] + \"_\" + fAux[3]\n",
    "    fmap.write(\"{0}\\t {1}\\t {2}\\t {3}\\t {4}\\n\".format(f,fAux[0],fAux[1],fAux[2],fAux[3]))\n",
    "    if not os.path.exists(dirLevel2):\n",
    "        os.makedirs(dirLevel2)\n",
    "    origin = fullpath + f\n",
    "    dest   = dirLevel2 + \"/\" + f\n",
    "    shutil.copy2(origin, dest)\n",
    "    print(\"copying from \", origin, \" to \", dest)\n",
    "    \n",
    "fmap.close()\n",
    "  "
   ]
  },
  {
   "cell_type": "markdown",
   "metadata": {
    "deletable": true,
    "editable": true
   },
   "source": [
    "## Task 1: Files Preprocessing\n",
    "\n",
    "We now get into each directory of the current year, and add each file within that directory to the corpus. In addition, we write a _preprocessed_ version of the file (suffix `.pre`)."
   ]
  },
  {
   "cell_type": "markdown",
   "metadata": {
    "deletable": true,
    "editable": true
   },
   "source": [
    "Let us first import the mapping filename $\\rightarrow$ tag. Here we are reading the whole list, i.e., the entire dataset. We define two structures to query the filename and the absolute id value:\n",
    "-  `file2tag`: Given a file name, it returns the corresponding unique identifier\n",
    "-  `tag2file`: Given a unique identifier, i.e., a tag, it returns the full file name (cik_year_month_day.txt)\n",
    "\n",
    "We also create a dataframe, `dfMap`, which contains all the information associated to a specific file, i.e., full name, cik, year, month, day, tag.\n",
    "\n",
    "For the preprocessing phase, we use the following criteria:\n",
    "- exclude all words with length $\\leq$ 2\n",
    "- exclude all words that are not alphabetic (`isalpha()` from nltk)\n",
    "- exclude stopwords\n",
    "- exclude all words which are not in the google news dictionary (cut to the 500k most frequent words)"
   ]
  },
  {
   "cell_type": "code",
   "execution_count": 6,
   "metadata": {
    "collapsed": false,
    "deletable": true,
    "editable": true
   },
   "outputs": [],
   "source": [
    "fullpath = path.join(prefix,vocab_folder)\n",
    "name_vocab = fullpath + \"embed500.vocab\"\n",
    "with open(name_vocab) as f:\n",
    "    vocab_list = map(str.strip,f.readlines())\n",
    "vocab_dict = {w:k for k,w in enumerate(vocab_list)}"
   ]
  },
  {
   "cell_type": "code",
   "execution_count": 16,
   "metadata": {
    "collapsed": false,
    "deletable": true,
    "editable": true
   },
   "outputs": [],
   "source": [
    "nRows = sum(1 for line in open('mapping.txt.noheaders'))\n",
    "dfMap = pd.DataFrame(index=np.arange(0, nRows), columns=('name', 'cik', 'year', 'month','day','tag') )\n",
    "\n",
    "with open(\"mapping.txt.noheaders\", \"r\") as f:\n",
    "    row = 0\n",
    "    for line in f:\n",
    "        #print(line)\n",
    "        line=line.rstrip() # remove \\n from each row\n",
    "        dfMap.loc[row] = line.split(\",\")\n",
    "        row += 1\n",
    "dfMap[\"year\"] = dfMap[\"year\"].astype(\"int\")   \n",
    "dfMap[\"month\"] = dfMap[\"month\"].astype(\"int\")   \n",
    "dfMap[\"day\"] = dfMap[\"day\"].astype(\"int\")   \n",
    "dfMap[\"tag\"] = dfMap[\"tag\"].astype(\"int\")   \n",
    "#print(dfMap.dtypes)\n",
    "file2tag = {f:t for f,t in zip(dfMap[\"name\"],dfMap[\"tag\"])}\n",
    "tag2file = {t:f for t,f in zip(dfMap[\"tag\"],dfMap[\"name\"])}\n",
    "\n",
    "#print(file2tag[\"11544_1996_12_13.txt\"])\n",
    "#print(tag2file[\"10\"])"
   ]
  },
  {
   "cell_type": "code",
   "execution_count": 1,
   "metadata": {
    "collapsed": false,
    "deletable": true,
    "editable": true
   },
   "outputs": [
    {
     "ename": "NameError",
     "evalue": "name 'pd' is not defined",
     "output_type": "error",
     "traceback": [
      "\u001b[0;31m---------------------------------------------------------------------------\u001b[0m",
      "\u001b[0;31mNameError\u001b[0m                                 Traceback (most recent call last)",
      "\u001b[0;32m<ipython-input-1-ea5eba56eae7>\u001b[0m in \u001b[0;36m<module>\u001b[0;34m()\u001b[0m\n\u001b[0;32m----> 1\u001b[0;31m \u001b[0mdf\u001b[0m \u001b[0;34m=\u001b[0m \u001b[0mpd\u001b[0m\u001b[0;34m.\u001b[0m\u001b[0mread_csv\u001b[0m\u001b[0;34m(\u001b[0m\u001b[0;34m\"mapping.txt\"\u001b[0m\u001b[0;34m)\u001b[0m\u001b[0;34m\u001b[0m\u001b[0m\n\u001b[0m\u001b[1;32m      2\u001b[0m \u001b[0mprint\u001b[0m\u001b[0;34m(\u001b[0m\u001b[0mdf\u001b[0m\u001b[0;34m)\u001b[0m\u001b[0;34m\u001b[0m\u001b[0m\n",
      "\u001b[0;31mNameError\u001b[0m: name 'pd' is not defined"
     ]
    }
   ],
   "source": [
    "df = pd.read_csv(\"mapping.txt\")\n",
    "print(df)"
   ]
  },
  {
   "cell_type": "code",
   "execution_count": 20,
   "metadata": {
    "collapsed": false,
    "deletable": true,
    "editable": true
   },
   "outputs": [],
   "source": [
    "year0 = \"2007\"\n",
    "yearT = \"2008\"\n"
   ]
  },
  {
   "cell_type": "code",
   "execution_count": 21,
   "metadata": {
    "collapsed": false,
    "deletable": true,
    "editable": true
   },
   "outputs": [
    {
     "name": "stdout",
     "output_type": "stream",
     "text": [
      "/home/marco/gdrive/research/nlp/data/v4/2007\n",
      "Entering folder  04_17\n",
      "Entering folder  08_21\n",
      "Entering folder  09_25\n",
      "Entering folder  04_23\n",
      "Entering folder  05_14\n",
      "Entering folder  01_26\n",
      "Entering folder  01_10\n",
      "Entering folder  05_21\n",
      "Entering folder  12_11\n",
      "Entering folder  10_31\n",
      "Entering folder  01_31\n",
      "Entering folder  07_03\n",
      "Entering folder  01_30\n",
      "Entering folder  03_01\n",
      "Entering folder  02_07\n",
      "Entering folder  08_08\n",
      "Entering folder  06_19\n",
      "Entering folder  05_02\n",
      "Entering folder  09_05\n",
      "Entering folder  04_13\n",
      "Entering folder  04_18\n",
      "Entering folder  02_02\n",
      "Entering folder  05_04\n",
      "Entering folder  08_09\n",
      "Entering folder  05_16\n",
      "Entering folder  03_23\n",
      "Entering folder  11_20\n",
      "Entering folder  07_02\n",
      "Entering folder  02_13\n",
      "Entering folder  11_30\n",
      "Entering folder  11_01\n",
      "Entering folder  01_11\n",
      "Entering folder  08_24\n",
      "Entering folder  11_14\n",
      "Entering folder  10_17\n",
      "Entering folder  05_31\n",
      "Entering folder  doc2vec.model.2007\n",
      "Entering folder  04_27\n",
      "Entering folder  08_14\n",
      "Entering folder  05_29\n",
      "Entering folder  07_24\n",
      "Entering folder  02_21\n",
      "Entering folder  07_19\n",
      "Entering folder  10_19\n",
      "Entering folder  11_06\n",
      "Entering folder  04_30\n",
      "Entering folder  03_08\n",
      "Entering folder  09_10\n",
      "Entering folder  06_08\n",
      "Entering folder  07_20\n",
      "Entering folder  01_22\n",
      "Entering folder  05_01\n",
      "Entering folder  01_16\n",
      "Entering folder  03_28\n",
      "Entering folder  07_30\n",
      "Entering folder  12_20\n",
      "Entering folder  02_14\n",
      "Entering folder  08_29\n",
      "Entering folder  03_19\n",
      "Entering folder  07_23\n",
      "Entering folder  11_15\n",
      "Entering folder  05_07\n",
      "Entering folder  06_14\n",
      "Entering folder  09_19\n",
      "Entering folder  07_09\n",
      "Entering folder  02_06\n",
      "Entering folder  10_30\n",
      "Entering folder  05_22\n",
      "Entering folder  10_24\n",
      "Entering folder  05_23\n",
      "Entering folder  04_25\n",
      "Entering folder  07_13\n",
      "Entering folder  11_13\n",
      "Entering folder  12_13\n",
      "Entering folder  10_02\n",
      "Entering folder  01_23\n",
      "Entering folder  08_27\n",
      "Entering folder  05_10\n",
      "Entering folder  02_26\n",
      "Entering folder  10_11\n",
      "Entering folder  03_15\n",
      "Entering folder  12_19\n",
      "/home/marco/gdrive/research/nlp/data/v4/2008\n",
      "Entering folder  05_12\n",
      "Entering folder  09_25\n",
      "Entering folder  04_03\n",
      "Entering folder  01_15\n",
      "Entering folder  12_04\n",
      "Entering folder  06_16\n",
      "Entering folder  06_24\n",
      "Entering folder  03_06\n",
      "Entering folder  04_23\n",
      "Entering folder  06_02\n",
      "Entering folder  10_23\n",
      "Entering folder  02_27\n",
      "Entering folder  12_03\n",
      "Entering folder  06_18\n",
      "Entering folder  09_24\n",
      "Entering folder  12_12\n",
      "Entering folder  10_31\n",
      "Entering folder  01_14\n",
      "Entering folder  01_31\n",
      "Entering folder  11_17\n",
      "Entering folder  03_13\n",
      "Entering folder  01_30\n",
      "Entering folder  08_05\n",
      "Entering folder  10_15\n",
      "Entering folder  02_04\n",
      "Entering folder  11_07\n",
      "Entering folder  02_07\n",
      "Entering folder  03_11\n",
      "Entering folder  09_18\n",
      "Entering folder  08_08\n",
      "Entering folder  01_28\n",
      "Entering folder  05_19\n",
      "Entering folder  05_02\n",
      "Entering folder  04_29\n",
      "Entering folder  10_14\n",
      "Entering folder  01_18\n",
      "Entering folder  04_04\n",
      "Entering folder  10_01\n",
      "Entering folder  11_12\n",
      "Entering folder  08_07\n",
      "Entering folder  04_21\n",
      "Entering folder  05_20\n",
      "Entering folder  09_08\n",
      "Entering folder  07_22\n",
      "Entering folder  03_31\n",
      "Entering folder  05_06\n",
      "Entering folder  07_02\n",
      "Entering folder  04_28\n",
      "Entering folder  10_27\n",
      "Entering folder  04_22\n",
      "Entering folder  01_02\n",
      "Entering folder  07_24\n",
      "Entering folder  11_06\n",
      "Entering folder  04_30\n",
      "Entering folder  04_15\n",
      "Entering folder  02_19\n",
      "Entering folder  11_24\n",
      "Entering folder  08_04\n",
      "Entering folder  11_10\n",
      "Entering folder  03_28\n",
      "Entering folder  07_30\n",
      "Entering folder  03_21\n",
      "Entering folder  02_14\n",
      "Entering folder  06_20\n",
      "Entering folder  07_23\n",
      "Entering folder  05_07\n",
      "Entering folder  12_16\n",
      "Entering folder  02_12\n",
      "Entering folder  05_15\n",
      "Entering folder  02_11\n",
      "Entering folder  02_06\n",
      "Entering folder  10_06\n",
      "Entering folder  01_29\n",
      "Entering folder  05_23\n",
      "Entering folder  04_25\n",
      "Entering folder  05_13\n",
      "Entering folder  06_13\n",
      "Entering folder  09_02\n",
      "Entering folder  11_03\n",
      "Entering folder  01_23\n",
      "Entering folder  08_06\n",
      "Entering folder  07_11\n"
     ]
    }
   ],
   "source": [
    "yearSet = list(range(int(year0), int(yearT)+1))\n",
    "\n",
    "for year in yearSet:\n",
    "    \n",
    "    dirFull = path.join(prefix,perDayFolders) + str(year)\n",
    "    print(dirFull)\n",
    "\n",
    "    for ff in listdir(dirFull):\n",
    "        print(\"Entering folder \", ff)\n",
    "        filteredList = path.join(dirFull,ff) + \"/*.txt\"\n",
    "        for f in glob.glob(filteredList):\n",
    "\n",
    "            fullname = path.join(dirFull,ff,f)\n",
    "            if os.path.isfile(fullname+\".pre\"):\n",
    "                continue\n",
    "\n",
    "            fTxt = open(fullname)\n",
    "            doc = fTxt.read()\n",
    "            words = [w.lower() for w in word_tokenize(doc) if w not in stop_words]\n",
    "            words = [w for w in words if len(w) > 2 and w.isalpha() and w in vocab_dict]\n",
    "\n",
    "            preprocName = fullname+\".pre\"\n",
    "            fPre = open(preprocName, \"w\")\n",
    "            writerDoc = csv.writer(fPre)\n",
    "            writerDoc.writerows([words])\n",
    "            fPre.close()\n"
   ]
  },
  {
   "cell_type": "code",
   "execution_count": 29,
   "metadata": {
    "collapsed": false,
    "deletable": true,
    "editable": true
   },
   "outputs": [
    {
     "data": {
      "text/plain": [
       "True"
      ]
     },
     "execution_count": 29,
     "metadata": {},
     "output_type": "execute_result"
    }
   ],
   "source": [
    "\"bae\" in vocab_dict"
   ]
  },
  {
   "cell_type": "markdown",
   "metadata": {
    "deletable": true,
    "editable": true
   },
   "source": [
    "## Task 2: doc2vec model creation\n",
    "\n",
    "We now need to read all the files belonging to a given year (later, up to that year) and build a doc2vec model to be used with the documents of that year. The doc2vect model is stored within the folder of that year and a suffix `.year` is added to each model."
   ]
  },
  {
   "cell_type": "code",
   "execution_count": 27,
   "metadata": {
    "collapsed": false,
    "deletable": true,
    "editable": true
   },
   "outputs": [],
   "source": [
    "from gensim.models import doc2vec\n",
    "import logging\n",
    "logging.basicConfig(\n",
    "        format='%(asctime)s : %(threadName)s : %(levelname)s : %(message)s',\n",
    "        level=logging.INFO\n",
    ")\n"
   ]
  },
  {
   "cell_type": "markdown",
   "metadata": {
    "deletable": true,
    "editable": true
   },
   "source": [
    "[NOT NEEDED ANYMORE] First, let us define a function used to determine whether a certain document matches the criteria used to define which documents will be employed to build the distance matrix (typically, year-month-day or any subset of that)"
   ]
  },
  {
   "cell_type": "code",
   "execution_count": 287,
   "metadata": {
    "collapsed": false,
    "deletable": true,
    "editable": true
   },
   "outputs": [],
   "source": [
    "def isSelected(name, year, month, day):\n",
    "    name= name[:-4]\n",
    "    cik, yy, mm, dd = name.split(\"_\")\n",
    "    if yy == year:\n",
    "        return True\n",
    "    else:\n",
    "        return False"
   ]
  },
  {
   "cell_type": "markdown",
   "metadata": {
    "deletable": true,
    "editable": true
   },
   "source": [
    "Now, we import all the preprocessed files relative to the period considered in the construction of the doc2vec model.\n",
    "\n",
    "**Rem.:** To build the doc2vec model, we use all the files in the period year0 to yearT. However, the distance matrix computation only includes the document in a prespecified period, e.g., a year, or a day. For this reason, we define here a new dictionary, called `corpus2tag`, which is used to identify which documents of the current corpus belong to a given time window. There are the only documents for which we want to compute the distance matrix.\n",
    "\n",
    "Two tags:\n",
    "-  the fist is the id number within the corpus\n",
    "-  the second is the absolute id number, i.e., within the entire dataset\n",
    "\n",
    "Each document embedding can be accessed via any of the two tags.\n"
   ]
  },
  {
   "cell_type": "code",
   "execution_count": 31,
   "metadata": {
    "collapsed": false,
    "deletable": true,
    "editable": true
   },
   "outputs": [
    {
     "name": "stdout",
     "output_type": "stream",
     "text": [
      "Considering year  2007\n",
      "Corpus with    97 documents.\n",
      "Considering year  2008\n",
      "Corpus with   199 documents.\n"
     ]
    }
   ],
   "source": [
    "yearT = \"2008\"\n",
    "year0 = \"2007\"\n",
    "yearSet = list(range(int(year0), int(yearT)+1))\n",
    "\n",
    "docs = []\n",
    "tagsAbs = []\n",
    "corpusID = []\n",
    "absID = []\n",
    "analyzedDocument = namedtuple('AnalyzedDocument','words tags')\n",
    "i = 0\n",
    "for year in yearSet:\n",
    "    print(\"Considering year \", year)\n",
    "    dirFull = path.join(prefix,perDayFolders) + str(year)\n",
    " \n",
    "    for ff in listdir(dirFull):\n",
    "        filteredList = path.join(dirFull,ff) + \"/*.txt.pre\"\n",
    "        for f in glob.glob(filteredList):\n",
    "            name = f.split(\"/\")[-1]\n",
    "            name = name[:-4]\n",
    "            #selected = 0\n",
    "            #print(name, file2tag[name])\n",
    "            #if isSelected(name, yearT, [], []):\n",
    "            #    corpusID.append(i)\n",
    "            #    absID.append(file2tag[name])\n",
    "            #    selected = 1\n",
    "                \n",
    "            fullname = path.join(dirFull, ff, f)\n",
    "            fToken = open(fullname, \"r\")\n",
    "            readerDoc = csv.reader(fToken)\n",
    "            doc = next(readerDoc)\n",
    "            fToken.close()\n",
    "            #tags = [i,str(file2tag[name])]\n",
    "            tags = [str(file2tag[name])] \n",
    "            #absID.append(file2tag[name])\n",
    "            docs.append(analyzedDocument(doc,tags))\n",
    "\n",
    "            i = i + 1\n",
    "    print(\"Corpus with {0:5d} documents.\".format(len(docs)))\n",
    "\n",
    "#corpus2tag = {id:t for id,t in zip(corpusID,absID)}\n",
    "#print(\"List of documents included in the considered time window::\")\n",
    "#print(corpus2tag)\n",
    "#verify\n",
    "#print(docs[64])\n",
    "#print(tag2file[corpus2tag[64]])"
   ]
  },
  {
   "cell_type": "code",
   "execution_count": 32,
   "metadata": {
    "collapsed": false,
    "deletable": true,
    "editable": true
   },
   "outputs": [
    {
     "name": "stderr",
     "output_type": "stream",
     "text": [
      "2018-04-17 14:35:37,957 : MainThread : INFO : collecting all words and their counts\n",
      "2018-04-17 14:35:37,959 : MainThread : INFO : PROGRESS: at example #0, processed 0 words (0/s), 0 word types, 0 tags\n",
      "2018-04-17 14:35:38,028 : MainThread : INFO : collected 8419 word types and 199 unique tags from a corpus of 199 examples and 187924 words\n",
      "2018-04-17 14:35:38,029 : MainThread : INFO : Loading a fresh vocabulary\n",
      "2018-04-17 14:35:38,077 : MainThread : INFO : min_count=2 retains 5757 unique words (68% of original 8419, drops 2662)\n",
      "2018-04-17 14:35:38,078 : MainThread : INFO : min_count=2 leaves 185262 word corpus (98% of original 187924, drops 2662)\n",
      "2018-04-17 14:35:38,118 : MainThread : INFO : deleting the raw counts dictionary of 8419 items\n",
      "2018-04-17 14:35:38,120 : MainThread : INFO : sample=0.001 downsamples 48 most-common words\n",
      "2018-04-17 14:35:38,121 : MainThread : INFO : downsampling leaves estimated 169147 word corpus (91.3% of prior 185262)\n",
      "2018-04-17 14:35:38,122 : MainThread : INFO : estimated required memory for 5757 words and 300 dimensions: 16973900 bytes\n",
      "2018-04-17 14:35:38,160 : MainThread : INFO : resetting layer weights\n",
      "2018-04-17 14:35:38,288 : MainThread : INFO : training model with 4 workers on 5757 vocabulary and 300 features, using sg=0 hs=0 sample=0.001 negative=10 window=100\n",
      "2018-04-17 14:35:39,418 : MainThread : INFO : PROGRESS: at 0.28% examples, 79442 words/s, in_qsize 7, out_qsize 0\n",
      "2018-04-17 14:35:40,760 : MainThread : INFO : PROGRESS: at 0.51% examples, 65304 words/s, in_qsize 7, out_qsize 0\n",
      "2018-04-17 14:35:41,889 : MainThread : INFO : PROGRESS: at 0.78% examples, 71154 words/s, in_qsize 7, out_qsize 0\n",
      "2018-04-17 14:35:42,911 : MainThread : INFO : PROGRESS: at 1.07% examples, 75353 words/s, in_qsize 7, out_qsize 0\n",
      "2018-04-17 14:35:44,012 : MainThread : INFO : PROGRESS: at 1.38% examples, 79265 words/s, in_qsize 7, out_qsize 0\n",
      "2018-04-17 14:35:45,091 : MainThread : INFO : PROGRESS: at 1.66% examples, 81740 words/s, in_qsize 7, out_qsize 0\n",
      "2018-04-17 14:35:46,091 : MainThread : INFO : PROGRESS: at 1.95% examples, 82684 words/s, in_qsize 7, out_qsize 0\n",
      "2018-04-17 14:35:47,370 : MainThread : INFO : PROGRESS: at 2.28% examples, 83252 words/s, in_qsize 7, out_qsize 0\n",
      "2018-04-17 14:35:48,550 : MainThread : INFO : PROGRESS: at 2.62% examples, 84336 words/s, in_qsize 7, out_qsize 0\n",
      "2018-04-17 14:35:49,625 : MainThread : INFO : PROGRESS: at 2.93% examples, 85532 words/s, in_qsize 7, out_qsize 0\n",
      "2018-04-17 14:35:50,722 : MainThread : INFO : PROGRESS: at 3.19% examples, 85591 words/s, in_qsize 7, out_qsize 0\n",
      "2018-04-17 14:35:51,765 : MainThread : INFO : PROGRESS: at 3.48% examples, 85549 words/s, in_qsize 7, out_qsize 0\n",
      "2018-04-17 14:35:52,873 : MainThread : INFO : PROGRESS: at 3.78% examples, 86137 words/s, in_qsize 7, out_qsize 0\n",
      "2018-04-17 14:35:53,891 : MainThread : INFO : PROGRESS: at 4.10% examples, 86984 words/s, in_qsize 7, out_qsize 0\n",
      "2018-04-17 14:35:54,977 : MainThread : INFO : PROGRESS: at 4.39% examples, 87262 words/s, in_qsize 7, out_qsize 0\n",
      "2018-04-17 14:35:56,063 : MainThread : INFO : PROGRESS: at 4.66% examples, 87529 words/s, in_qsize 8, out_qsize 0\n",
      "2018-04-17 14:35:57,076 : MainThread : INFO : PROGRESS: at 4.98% examples, 87974 words/s, in_qsize 7, out_qsize 0\n",
      "2018-04-17 14:35:58,148 : MainThread : INFO : PROGRESS: at 5.28% examples, 88418 words/s, in_qsize 7, out_qsize 0\n",
      "2018-04-17 14:35:59,209 : MainThread : INFO : PROGRESS: at 5.60% examples, 88758 words/s, in_qsize 7, out_qsize 0\n",
      "2018-04-17 14:36:00,238 : MainThread : INFO : PROGRESS: at 5.88% examples, 88990 words/s, in_qsize 7, out_qsize 0\n",
      "2018-04-17 14:36:01,253 : MainThread : INFO : PROGRESS: at 6.11% examples, 88787 words/s, in_qsize 7, out_qsize 0\n",
      "2018-04-17 14:36:02,263 : MainThread : INFO : PROGRESS: at 6.41% examples, 88761 words/s, in_qsize 7, out_qsize 0\n",
      "2018-04-17 14:36:03,290 : MainThread : INFO : PROGRESS: at 6.66% examples, 88876 words/s, in_qsize 7, out_qsize 0\n",
      "2018-04-17 14:36:04,302 : MainThread : INFO : PROGRESS: at 6.98% examples, 89147 words/s, in_qsize 7, out_qsize 0\n",
      "2018-04-17 14:36:05,410 : MainThread : INFO : PROGRESS: at 7.28% examples, 89311 words/s, in_qsize 8, out_qsize 0\n",
      "2018-04-17 14:36:06,493 : MainThread : INFO : PROGRESS: at 7.60% examples, 89466 words/s, in_qsize 7, out_qsize 0\n",
      "2018-04-17 14:36:07,530 : MainThread : INFO : PROGRESS: at 7.88% examples, 89589 words/s, in_qsize 7, out_qsize 0\n",
      "2018-04-17 14:36:08,633 : MainThread : INFO : PROGRESS: at 8.16% examples, 89701 words/s, in_qsize 7, out_qsize 0\n",
      "2018-04-17 14:36:09,772 : MainThread : INFO : PROGRESS: at 8.52% examples, 89822 words/s, in_qsize 7, out_qsize 0\n",
      "2018-04-17 14:36:10,816 : MainThread : INFO : PROGRESS: at 8.78% examples, 89834 words/s, in_qsize 7, out_qsize 0\n",
      "2018-04-17 14:36:11,856 : MainThread : INFO : PROGRESS: at 9.10% examples, 90057 words/s, in_qsize 7, out_qsize 0\n",
      "2018-04-17 14:36:12,893 : MainThread : INFO : PROGRESS: at 9.33% examples, 89721 words/s, in_qsize 7, out_qsize 0\n",
      "2018-04-17 14:36:13,894 : MainThread : INFO : PROGRESS: at 9.63% examples, 89970 words/s, in_qsize 7, out_qsize 0\n",
      "2018-04-17 14:36:14,916 : MainThread : INFO : PROGRESS: at 9.91% examples, 89934 words/s, in_qsize 7, out_qsize 0\n",
      "2018-04-17 14:36:16,066 : MainThread : INFO : PROGRESS: at 10.19% examples, 89905 words/s, in_qsize 7, out_qsize 0\n",
      "2018-04-17 14:36:17,135 : MainThread : INFO : PROGRESS: at 10.52% examples, 89948 words/s, in_qsize 7, out_qsize 0\n",
      "2018-04-17 14:36:18,188 : MainThread : INFO : PROGRESS: at 10.81% examples, 90126 words/s, in_qsize 7, out_qsize 0\n",
      "2018-04-17 14:36:19,275 : MainThread : INFO : PROGRESS: at 11.10% examples, 90249 words/s, in_qsize 7, out_qsize 0\n",
      "2018-04-17 14:36:20,298 : MainThread : INFO : PROGRESS: at 11.43% examples, 90492 words/s, in_qsize 7, out_qsize 0\n",
      "2018-04-17 14:36:21,606 : MainThread : INFO : PROGRESS: at 11.69% examples, 89945 words/s, in_qsize 7, out_qsize 0\n",
      "2018-04-17 14:36:22,648 : MainThread : INFO : PROGRESS: at 11.99% examples, 90080 words/s, in_qsize 7, out_qsize 0\n",
      "2018-04-17 14:36:23,706 : MainThread : INFO : PROGRESS: at 12.31% examples, 90179 words/s, in_qsize 7, out_qsize 0\n",
      "2018-04-17 14:36:24,718 : MainThread : INFO : PROGRESS: at 12.61% examples, 90344 words/s, in_qsize 7, out_qsize 0\n",
      "2018-04-17 14:36:25,734 : MainThread : INFO : PROGRESS: at 12.91% examples, 90492 words/s, in_qsize 7, out_qsize 0\n",
      "2018-04-17 14:36:26,893 : MainThread : INFO : PROGRESS: at 13.19% examples, 90441 words/s, in_qsize 7, out_qsize 0\n",
      "2018-04-17 14:36:27,921 : MainThread : INFO : PROGRESS: at 13.49% examples, 90576 words/s, in_qsize 7, out_qsize 0\n",
      "2018-04-17 14:36:29,022 : MainThread : INFO : PROGRESS: at 13.81% examples, 90578 words/s, in_qsize 7, out_qsize 0\n",
      "2018-04-17 14:36:30,053 : MainThread : INFO : PROGRESS: at 14.11% examples, 90686 words/s, in_qsize 7, out_qsize 0\n",
      "2018-04-17 14:36:31,097 : MainThread : INFO : PROGRESS: at 14.39% examples, 90659 words/s, in_qsize 7, out_qsize 0\n",
      "2018-04-17 14:36:32,253 : MainThread : INFO : PROGRESS: at 14.66% examples, 90565 words/s, in_qsize 7, out_qsize 0\n",
      "2018-04-17 14:36:33,271 : MainThread : INFO : PROGRESS: at 14.98% examples, 90650 words/s, in_qsize 7, out_qsize 0\n",
      "2018-04-17 14:36:34,464 : MainThread : INFO : PROGRESS: at 15.28% examples, 90562 words/s, in_qsize 7, out_qsize 0\n",
      "2018-04-17 14:36:35,576 : MainThread : INFO : PROGRESS: at 15.61% examples, 90670 words/s, in_qsize 7, out_qsize 0\n",
      "2018-04-17 14:36:36,668 : MainThread : INFO : PROGRESS: at 15.93% examples, 90797 words/s, in_qsize 7, out_qsize 0\n",
      "2018-04-17 14:36:37,722 : MainThread : INFO : PROGRESS: at 16.19% examples, 90778 words/s, in_qsize 7, out_qsize 0\n",
      "2018-04-17 14:36:38,766 : MainThread : INFO : PROGRESS: at 16.49% examples, 90858 words/s, in_qsize 7, out_qsize 0\n",
      "2018-04-17 14:36:39,825 : MainThread : INFO : PROGRESS: at 16.81% examples, 90917 words/s, in_qsize 7, out_qsize 0\n",
      "2018-04-17 14:36:40,899 : MainThread : INFO : PROGRESS: at 17.11% examples, 90938 words/s, in_qsize 7, out_qsize 0\n",
      "2018-04-17 14:36:41,919 : MainThread : INFO : PROGRESS: at 17.38% examples, 90903 words/s, in_qsize 7, out_qsize 0\n",
      "2018-04-17 14:36:42,987 : MainThread : INFO : PROGRESS: at 17.66% examples, 90983 words/s, in_qsize 8, out_qsize 0\n",
      "2018-04-17 14:36:44,023 : MainThread : INFO : PROGRESS: at 17.98% examples, 91025 words/s, in_qsize 7, out_qsize 0\n",
      "2018-04-17 14:36:45,106 : MainThread : INFO : PROGRESS: at 18.28% examples, 91093 words/s, in_qsize 7, out_qsize 0\n",
      "2018-04-17 14:36:46,120 : MainThread : INFO : PROGRESS: at 18.53% examples, 90954 words/s, in_qsize 7, out_qsize 0\n",
      "2018-04-17 14:36:47,191 : MainThread : INFO : PROGRESS: at 18.83% examples, 90993 words/s, in_qsize 7, out_qsize 0\n",
      "2018-04-17 14:36:48,272 : MainThread : INFO : PROGRESS: at 19.13% examples, 91135 words/s, in_qsize 7, out_qsize 0\n",
      "2018-04-17 14:36:49,331 : MainThread : INFO : PROGRESS: at 19.45% examples, 91146 words/s, in_qsize 7, out_qsize 0\n",
      "2018-04-17 14:36:50,348 : MainThread : INFO : PROGRESS: at 19.71% examples, 91173 words/s, in_qsize 7, out_qsize 0\n",
      "2018-04-17 14:36:51,371 : MainThread : INFO : PROGRESS: at 19.96% examples, 90868 words/s, in_qsize 7, out_qsize 0\n",
      "2018-04-17 14:36:52,584 : MainThread : INFO : PROGRESS: at 20.28% examples, 90891 words/s, in_qsize 8, out_qsize 0\n",
      "2018-04-17 14:36:53,612 : MainThread : INFO : PROGRESS: at 20.60% examples, 90993 words/s, in_qsize 7, out_qsize 0\n",
      "2018-04-17 14:36:54,649 : MainThread : INFO : PROGRESS: at 20.88% examples, 91020 words/s, in_qsize 7, out_qsize 0\n",
      "2018-04-17 14:36:55,736 : MainThread : INFO : PROGRESS: at 21.16% examples, 91064 words/s, in_qsize 7, out_qsize 0\n",
      "2018-04-17 14:36:56,758 : MainThread : INFO : PROGRESS: at 21.48% examples, 91112 words/s, in_qsize 7, out_qsize 0\n",
      "2018-04-17 14:36:57,805 : MainThread : INFO : PROGRESS: at 21.78% examples, 91210 words/s, in_qsize 7, out_qsize 0\n",
      "2018-04-17 14:36:58,926 : MainThread : INFO : PROGRESS: at 22.10% examples, 91195 words/s, in_qsize 7, out_qsize 0\n",
      "2018-04-17 14:37:00,015 : MainThread : INFO : PROGRESS: at 22.41% examples, 91258 words/s, in_qsize 7, out_qsize 0\n",
      "2018-04-17 14:37:01,194 : MainThread : INFO : PROGRESS: at 22.66% examples, 91095 words/s, in_qsize 7, out_qsize 0\n",
      "2018-04-17 14:37:02,205 : MainThread : INFO : PROGRESS: at 22.98% examples, 91153 words/s, in_qsize 7, out_qsize 0\n",
      "2018-04-17 14:37:03,291 : MainThread : INFO : PROGRESS: at 23.28% examples, 91202 words/s, in_qsize 7, out_qsize 0\n",
      "2018-04-17 14:37:04,315 : MainThread : INFO : PROGRESS: at 23.60% examples, 91290 words/s, in_qsize 7, out_qsize 0\n",
      "2018-04-17 14:37:05,341 : MainThread : INFO : PROGRESS: at 23.89% examples, 91354 words/s, in_qsize 7, out_qsize 0\n",
      "2018-04-17 14:37:06,361 : MainThread : INFO : PROGRESS: at 24.16% examples, 91426 words/s, in_qsize 7, out_qsize 0\n",
      "2018-04-17 14:37:07,411 : MainThread : INFO : PROGRESS: at 24.48% examples, 91435 words/s, in_qsize 8, out_qsize 0\n",
      "2018-04-17 14:37:08,511 : MainThread : INFO : PROGRESS: at 24.78% examples, 91462 words/s, in_qsize 7, out_qsize 0\n",
      "2018-04-17 14:37:09,559 : MainThread : INFO : PROGRESS: at 25.10% examples, 91519 words/s, in_qsize 7, out_qsize 0\n",
      "2018-04-17 14:37:10,561 : MainThread : INFO : PROGRESS: at 25.36% examples, 91510 words/s, in_qsize 7, out_qsize 0\n",
      "2018-04-17 14:37:11,562 : MainThread : INFO : PROGRESS: at 25.60% examples, 91339 words/s, in_qsize 7, out_qsize 0\n",
      "2018-04-17 14:37:12,650 : MainThread : INFO : PROGRESS: at 25.91% examples, 91395 words/s, in_qsize 7, out_qsize 0\n",
      "2018-04-17 14:37:13,718 : MainThread : INFO : PROGRESS: at 26.18% examples, 91451 words/s, in_qsize 7, out_qsize 0\n",
      "2018-04-17 14:37:14,722 : MainThread : INFO : PROGRESS: at 26.48% examples, 91515 words/s, in_qsize 7, out_qsize 0\n",
      "2018-04-17 14:37:15,748 : MainThread : INFO : PROGRESS: at 26.81% examples, 91595 words/s, in_qsize 7, out_qsize 0\n",
      "2018-04-17 14:37:16,824 : MainThread : INFO : PROGRESS: at 27.13% examples, 91677 words/s, in_qsize 7, out_qsize 0\n",
      "2018-04-17 14:37:17,939 : MainThread : INFO : PROGRESS: at 27.45% examples, 91726 words/s, in_qsize 7, out_qsize 0\n",
      "2018-04-17 14:37:19,100 : MainThread : INFO : PROGRESS: at 27.78% examples, 91772 words/s, in_qsize 7, out_qsize 0\n",
      "2018-04-17 14:37:20,203 : MainThread : INFO : PROGRESS: at 28.11% examples, 91829 words/s, in_qsize 7, out_qsize 0\n",
      "2018-04-17 14:37:21,260 : MainThread : INFO : PROGRESS: at 28.39% examples, 91791 words/s, in_qsize 7, out_qsize 0\n",
      "2018-04-17 14:37:22,290 : MainThread : INFO : PROGRESS: at 28.66% examples, 91839 words/s, in_qsize 7, out_qsize 0\n",
      "2018-04-17 14:37:23,331 : MainThread : INFO : PROGRESS: at 28.96% examples, 91769 words/s, in_qsize 8, out_qsize 0\n",
      "2018-04-17 14:37:24,487 : MainThread : INFO : PROGRESS: at 29.28% examples, 91825 words/s, in_qsize 7, out_qsize 0\n",
      "2018-04-17 14:37:25,543 : MainThread : INFO : PROGRESS: at 29.60% examples, 91862 words/s, in_qsize 7, out_qsize 0\n",
      "2018-04-17 14:37:26,716 : MainThread : INFO : PROGRESS: at 29.81% examples, 91546 words/s, in_qsize 8, out_qsize 0\n",
      "2018-04-17 14:37:27,728 : MainThread : INFO : PROGRESS: at 29.99% examples, 91309 words/s, in_qsize 7, out_qsize 0\n",
      "2018-04-17 14:37:28,753 : MainThread : INFO : PROGRESS: at 30.24% examples, 91215 words/s, in_qsize 7, out_qsize 0\n",
      "2018-04-17 14:37:29,791 : MainThread : INFO : PROGRESS: at 30.48% examples, 91013 words/s, in_qsize 7, out_qsize 0\n",
      "2018-04-17 14:37:31,014 : MainThread : INFO : PROGRESS: at 30.66% examples, 90645 words/s, in_qsize 7, out_qsize 0\n",
      "2018-04-17 14:37:32,087 : MainThread : INFO : PROGRESS: at 30.91% examples, 90427 words/s, in_qsize 7, out_qsize 0\n",
      "2018-04-17 14:37:33,252 : MainThread : INFO : PROGRESS: at 31.13% examples, 90173 words/s, in_qsize 8, out_qsize 0\n",
      "2018-04-17 14:37:34,360 : MainThread : INFO : PROGRESS: at 31.39% examples, 90045 words/s, in_qsize 7, out_qsize 0\n",
      "2018-04-17 14:37:35,422 : MainThread : INFO : PROGRESS: at 31.60% examples, 89804 words/s, in_qsize 8, out_qsize 0\n",
      "2018-04-17 14:37:36,522 : MainThread : INFO : PROGRESS: at 31.79% examples, 89587 words/s, in_qsize 7, out_qsize 0\n",
      "2018-04-17 14:37:37,668 : MainThread : INFO : PROGRESS: at 32.04% examples, 89365 words/s, in_qsize 8, out_qsize 0\n",
      "2018-04-17 14:37:38,684 : MainThread : INFO : PROGRESS: at 32.28% examples, 89300 words/s, in_qsize 7, out_qsize 0\n",
      "2018-04-17 14:37:39,788 : MainThread : INFO : PROGRESS: at 32.46% examples, 88939 words/s, in_qsize 8, out_qsize 0\n",
      "2018-04-17 14:37:40,833 : MainThread : INFO : PROGRESS: at 32.63% examples, 88753 words/s, in_qsize 7, out_qsize 0\n",
      "2018-04-17 14:37:41,877 : MainThread : INFO : PROGRESS: at 32.81% examples, 88409 words/s, in_qsize 7, out_qsize 0\n",
      "2018-04-17 14:37:43,083 : MainThread : INFO : PROGRESS: at 33.04% examples, 88157 words/s, in_qsize 7, out_qsize 0\n",
      "2018-04-17 14:37:44,240 : MainThread : INFO : PROGRESS: at 33.28% examples, 88005 words/s, in_qsize 7, out_qsize 0\n",
      "2018-04-17 14:37:45,410 : MainThread : INFO : PROGRESS: at 33.48% examples, 87772 words/s, in_qsize 7, out_qsize 0\n",
      "2018-04-17 14:37:46,515 : MainThread : INFO : PROGRESS: at 33.68% examples, 87549 words/s, in_qsize 7, out_qsize 0\n",
      "2018-04-17 14:37:47,619 : MainThread : INFO : PROGRESS: at 33.96% examples, 87415 words/s, in_qsize 7, out_qsize 0\n",
      "2018-04-17 14:37:48,707 : MainThread : INFO : PROGRESS: at 34.16% examples, 87288 words/s, in_qsize 7, out_qsize 0\n",
      "2018-04-17 14:37:49,963 : MainThread : INFO : PROGRESS: at 34.45% examples, 87132 words/s, in_qsize 7, out_qsize 0\n",
      "2018-04-17 14:37:51,106 : MainThread : INFO : PROGRESS: at 34.65% examples, 86900 words/s, in_qsize 7, out_qsize 0\n",
      "2018-04-17 14:37:52,192 : MainThread : INFO : PROGRESS: at 34.88% examples, 86741 words/s, in_qsize 7, out_qsize 0\n",
      "2018-04-17 14:37:53,248 : MainThread : INFO : PROGRESS: at 35.12% examples, 86643 words/s, in_qsize 7, out_qsize 0\n",
      "2018-04-17 14:37:54,292 : MainThread : INFO : PROGRESS: at 35.36% examples, 86581 words/s, in_qsize 7, out_qsize 0\n",
      "2018-04-17 14:37:55,380 : MainThread : INFO : PROGRESS: at 35.62% examples, 86583 words/s, in_qsize 8, out_qsize 0\n",
      "2018-04-17 14:37:56,384 : MainThread : INFO : PROGRESS: at 35.91% examples, 86581 words/s, in_qsize 8, out_qsize 0\n",
      "2018-04-17 14:37:57,709 : MainThread : INFO : PROGRESS: at 36.16% examples, 86437 words/s, in_qsize 7, out_qsize 0\n",
      "2018-04-17 14:37:58,792 : MainThread : INFO : PROGRESS: at 36.45% examples, 86401 words/s, in_qsize 7, out_qsize 0\n",
      "2018-04-17 14:37:59,826 : MainThread : INFO : PROGRESS: at 36.69% examples, 86377 words/s, in_qsize 7, out_qsize 0\n",
      "2018-04-17 14:38:00,840 : MainThread : INFO : PROGRESS: at 36.96% examples, 86322 words/s, in_qsize 8, out_qsize 0\n",
      "2018-04-17 14:38:01,866 : MainThread : INFO : PROGRESS: at 37.13% examples, 86194 words/s, in_qsize 7, out_qsize 0\n",
      "2018-04-17 14:38:02,935 : MainThread : INFO : PROGRESS: at 37.39% examples, 86079 words/s, in_qsize 7, out_qsize 0\n",
      "2018-04-17 14:38:03,974 : MainThread : INFO : PROGRESS: at 37.63% examples, 86024 words/s, in_qsize 7, out_qsize 0\n",
      "2018-04-17 14:38:05,021 : MainThread : INFO : PROGRESS: at 37.91% examples, 86028 words/s, in_qsize 7, out_qsize 0\n",
      "2018-04-17 14:38:06,167 : MainThread : INFO : PROGRESS: at 38.16% examples, 85998 words/s, in_qsize 7, out_qsize 0\n",
      "2018-04-17 14:38:07,283 : MainThread : INFO : PROGRESS: at 38.45% examples, 85951 words/s, in_qsize 8, out_qsize 0\n",
      "2018-04-17 14:38:08,398 : MainThread : INFO : PROGRESS: at 38.71% examples, 85942 words/s, in_qsize 7, out_qsize 0\n",
      "2018-04-17 14:38:09,557 : MainThread : INFO : PROGRESS: at 38.98% examples, 85813 words/s, in_qsize 7, out_qsize 0\n",
      "2018-04-17 14:38:10,591 : MainThread : INFO : PROGRESS: at 39.24% examples, 85850 words/s, in_qsize 8, out_qsize 0\n",
      "2018-04-17 14:38:11,617 : MainThread : INFO : PROGRESS: at 39.43% examples, 85637 words/s, in_qsize 8, out_qsize 0\n",
      "2018-04-17 14:38:12,745 : MainThread : INFO : PROGRESS: at 39.68% examples, 85628 words/s, in_qsize 7, out_qsize 0\n",
      "2018-04-17 14:38:13,759 : MainThread : INFO : PROGRESS: at 39.93% examples, 85529 words/s, in_qsize 8, out_qsize 0\n",
      "2018-04-17 14:38:14,815 : MainThread : INFO : PROGRESS: at 40.11% examples, 85398 words/s, in_qsize 7, out_qsize 0\n",
      "2018-04-17 14:38:15,898 : MainThread : INFO : PROGRESS: at 40.38% examples, 85319 words/s, in_qsize 7, out_qsize 0\n",
      "2018-04-17 14:38:16,938 : MainThread : INFO : PROGRESS: at 40.57% examples, 85150 words/s, in_qsize 7, out_qsize 0\n",
      "2018-04-17 14:38:18,236 : MainThread : INFO : PROGRESS: at 40.78% examples, 84925 words/s, in_qsize 7, out_qsize 0\n",
      "2018-04-17 14:38:19,242 : MainThread : INFO : PROGRESS: at 41.04% examples, 84914 words/s, in_qsize 7, out_qsize 0\n",
      "2018-04-17 14:38:20,616 : MainThread : INFO : PROGRESS: at 41.27% examples, 84704 words/s, in_qsize 7, out_qsize 0\n",
      "2018-04-17 14:38:21,623 : MainThread : INFO : PROGRESS: at 41.48% examples, 84572 words/s, in_qsize 7, out_qsize 0\n",
      "2018-04-17 14:38:22,694 : MainThread : INFO : PROGRESS: at 41.66% examples, 84444 words/s, in_qsize 7, out_qsize 0\n",
      "2018-04-17 14:38:23,940 : MainThread : INFO : PROGRESS: at 41.93% examples, 84294 words/s, in_qsize 7, out_qsize 0\n",
      "2018-04-17 14:38:24,997 : MainThread : INFO : PROGRESS: at 42.13% examples, 84227 words/s, in_qsize 7, out_qsize 0\n",
      "2018-04-17 14:38:26,008 : MainThread : INFO : PROGRESS: at 42.33% examples, 84067 words/s, in_qsize 8, out_qsize 0\n",
      "2018-04-17 14:38:27,186 : MainThread : INFO : PROGRESS: at 42.60% examples, 83981 words/s, in_qsize 7, out_qsize 0\n",
      "2018-04-17 14:38:28,301 : MainThread : INFO : PROGRESS: at 42.81% examples, 83869 words/s, in_qsize 7, out_qsize 0\n",
      "2018-04-17 14:38:29,313 : MainThread : INFO : PROGRESS: at 43.03% examples, 83752 words/s, in_qsize 7, out_qsize 0\n",
      "2018-04-17 14:38:30,390 : MainThread : INFO : PROGRESS: at 43.24% examples, 83716 words/s, in_qsize 7, out_qsize 0\n",
      "2018-04-17 14:38:31,582 : MainThread : INFO : PROGRESS: at 43.43% examples, 83462 words/s, in_qsize 7, out_qsize 0\n",
      "2018-04-17 14:38:32,606 : MainThread : INFO : PROGRESS: at 43.63% examples, 83419 words/s, in_qsize 7, out_qsize 0\n",
      "2018-04-17 14:38:33,627 : MainThread : INFO : PROGRESS: at 43.91% examples, 83394 words/s, in_qsize 7, out_qsize 0\n",
      "2018-04-17 14:38:34,880 : MainThread : INFO : PROGRESS: at 44.16% examples, 83334 words/s, in_qsize 7, out_qsize 0\n",
      "2018-04-17 14:38:35,901 : MainThread : INFO : PROGRESS: at 44.48% examples, 83401 words/s, in_qsize 7, out_qsize 0\n",
      "2018-04-17 14:38:37,158 : MainThread : INFO : PROGRESS: at 44.77% examples, 83386 words/s, in_qsize 7, out_qsize 0\n",
      "2018-04-17 14:38:38,186 : MainThread : INFO : PROGRESS: at 45.10% examples, 83477 words/s, in_qsize 7, out_qsize 0\n",
      "2018-04-17 14:38:39,299 : MainThread : INFO : PROGRESS: at 45.38% examples, 83496 words/s, in_qsize 7, out_qsize 0\n",
      "2018-04-17 14:38:40,341 : MainThread : INFO : PROGRESS: at 45.63% examples, 83533 words/s, in_qsize 7, out_qsize 0\n",
      "2018-04-17 14:38:41,461 : MainThread : INFO : PROGRESS: at 45.84% examples, 83347 words/s, in_qsize 8, out_qsize 0\n",
      "2018-04-17 14:38:42,505 : MainThread : INFO : PROGRESS: at 46.10% examples, 83380 words/s, in_qsize 7, out_qsize 0\n",
      "2018-04-17 14:38:43,551 : MainThread : INFO : PROGRESS: at 46.43% examples, 83463 words/s, in_qsize 8, out_qsize 0\n",
      "2018-04-17 14:38:44,695 : MainThread : INFO : PROGRESS: at 46.66% examples, 83414 words/s, in_qsize 7, out_qsize 0\n",
      "2018-04-17 14:38:45,764 : MainThread : INFO : PROGRESS: at 46.98% examples, 83509 words/s, in_qsize 7, out_qsize 0\n",
      "2018-04-17 14:38:46,807 : MainThread : INFO : PROGRESS: at 47.21% examples, 83455 words/s, in_qsize 7, out_qsize 0\n",
      "2018-04-17 14:38:47,886 : MainThread : INFO : PROGRESS: at 47.48% examples, 83454 words/s, in_qsize 7, out_qsize 0\n",
      "2018-04-17 14:38:48,938 : MainThread : INFO : PROGRESS: at 47.81% examples, 83527 words/s, in_qsize 7, out_qsize 0\n",
      "2018-04-17 14:38:49,983 : MainThread : INFO : PROGRESS: at 48.07% examples, 83510 words/s, in_qsize 7, out_qsize 0\n",
      "2018-04-17 14:38:51,008 : MainThread : INFO : PROGRESS: at 48.30% examples, 83495 words/s, in_qsize 8, out_qsize 0\n",
      "2018-04-17 14:38:52,056 : MainThread : INFO : PROGRESS: at 48.57% examples, 83474 words/s, in_qsize 7, out_qsize 0\n",
      "2018-04-17 14:38:53,057 : MainThread : INFO : PROGRESS: at 48.86% examples, 83557 words/s, in_qsize 7, out_qsize 0\n",
      "2018-04-17 14:38:54,075 : MainThread : INFO : PROGRESS: at 49.09% examples, 83506 words/s, in_qsize 7, out_qsize 0\n",
      "2018-04-17 14:38:55,125 : MainThread : INFO : PROGRESS: at 49.41% examples, 83595 words/s, in_qsize 7, out_qsize 0\n",
      "2018-04-17 14:38:56,128 : MainThread : INFO : PROGRESS: at 49.63% examples, 83605 words/s, in_qsize 7, out_qsize 0\n",
      "2018-04-17 14:38:57,296 : MainThread : INFO : PROGRESS: at 49.95% examples, 83604 words/s, in_qsize 7, out_qsize 0\n",
      "2018-04-17 14:38:58,410 : MainThread : INFO : PROGRESS: at 50.18% examples, 83569 words/s, in_qsize 7, out_qsize 0\n",
      "2018-04-17 14:38:59,495 : MainThread : INFO : PROGRESS: at 50.48% examples, 83606 words/s, in_qsize 8, out_qsize 0\n",
      "2018-04-17 14:39:00,796 : MainThread : INFO : PROGRESS: at 50.77% examples, 83527 words/s, in_qsize 7, out_qsize 0\n",
      "2018-04-17 14:39:01,888 : MainThread : INFO : PROGRESS: at 50.98% examples, 83441 words/s, in_qsize 7, out_qsize 0\n",
      "2018-04-17 14:39:02,930 : MainThread : INFO : PROGRESS: at 51.31% examples, 83514 words/s, in_qsize 7, out_qsize 0\n",
      "2018-04-17 14:39:04,064 : MainThread : INFO : PROGRESS: at 51.60% examples, 83551 words/s, in_qsize 8, out_qsize 0\n",
      "2018-04-17 14:39:05,248 : MainThread : INFO : PROGRESS: at 51.93% examples, 83573 words/s, in_qsize 7, out_qsize 0\n",
      "2018-04-17 14:39:06,257 : MainThread : INFO : PROGRESS: at 52.21% examples, 83660 words/s, in_qsize 7, out_qsize 0\n",
      "2018-04-17 14:39:07,294 : MainThread : INFO : PROGRESS: at 52.48% examples, 83674 words/s, in_qsize 7, out_qsize 0\n",
      "2018-04-17 14:39:08,305 : MainThread : INFO : PROGRESS: at 52.78% examples, 83715 words/s, in_qsize 7, out_qsize 0\n",
      "2018-04-17 14:39:09,348 : MainThread : INFO : PROGRESS: at 53.07% examples, 83738 words/s, in_qsize 7, out_qsize 0\n",
      "2018-04-17 14:39:10,364 : MainThread : INFO : PROGRESS: at 53.27% examples, 83683 words/s, in_qsize 7, out_qsize 0\n",
      "2018-04-17 14:39:11,404 : MainThread : INFO : PROGRESS: at 53.48% examples, 83624 words/s, in_qsize 7, out_qsize 0\n",
      "2018-04-17 14:39:12,467 : MainThread : INFO : PROGRESS: at 53.78% examples, 83644 words/s, in_qsize 7, out_qsize 0\n",
      "2018-04-17 14:39:13,506 : MainThread : INFO : PROGRESS: at 54.07% examples, 83668 words/s, in_qsize 7, out_qsize 0\n",
      "2018-04-17 14:39:14,541 : MainThread : INFO : PROGRESS: at 54.36% examples, 83730 words/s, in_qsize 8, out_qsize 0\n",
      "2018-04-17 14:39:15,648 : MainThread : INFO : PROGRESS: at 54.62% examples, 83690 words/s, in_qsize 7, out_qsize 0\n",
      "2018-04-17 14:39:16,795 : MainThread : INFO : PROGRESS: at 54.93% examples, 83732 words/s, in_qsize 8, out_qsize 0\n",
      "2018-04-17 14:39:17,976 : MainThread : INFO : PROGRESS: at 55.18% examples, 83710 words/s, in_qsize 7, out_qsize 0\n",
      "2018-04-17 14:39:19,028 : MainThread : INFO : PROGRESS: at 55.48% examples, 83755 words/s, in_qsize 7, out_qsize 0\n",
      "2018-04-17 14:39:20,159 : MainThread : INFO : PROGRESS: at 55.77% examples, 83747 words/s, in_qsize 7, out_qsize 0\n",
      "2018-04-17 14:39:21,218 : MainThread : INFO : PROGRESS: at 56.04% examples, 83725 words/s, in_qsize 7, out_qsize 0\n",
      "2018-04-17 14:39:22,332 : MainThread : INFO : PROGRESS: at 56.36% examples, 83793 words/s, in_qsize 7, out_qsize 0\n",
      "2018-04-17 14:39:23,489 : MainThread : INFO : PROGRESS: at 56.66% examples, 83840 words/s, in_qsize 7, out_qsize 0\n",
      "2018-04-17 14:39:24,592 : MainThread : INFO : PROGRESS: at 57.02% examples, 83900 words/s, in_qsize 7, out_qsize 0\n",
      "2018-04-17 14:39:25,642 : MainThread : INFO : PROGRESS: at 57.31% examples, 83964 words/s, in_qsize 7, out_qsize 0\n",
      "2018-04-17 14:39:26,676 : MainThread : INFO : PROGRESS: at 57.61% examples, 84014 words/s, in_qsize 7, out_qsize 0\n",
      "2018-04-17 14:39:27,723 : MainThread : INFO : PROGRESS: at 57.93% examples, 84095 words/s, in_qsize 8, out_qsize 0\n",
      "2018-04-17 14:39:28,778 : MainThread : INFO : PROGRESS: at 58.18% examples, 84118 words/s, in_qsize 7, out_qsize 0\n",
      "2018-04-17 14:39:29,848 : MainThread : INFO : PROGRESS: at 58.48% examples, 84158 words/s, in_qsize 7, out_qsize 0\n",
      "2018-04-17 14:39:30,853 : MainThread : INFO : PROGRESS: at 58.78% examples, 84195 words/s, in_qsize 8, out_qsize 0\n",
      "2018-04-17 14:39:31,923 : MainThread : INFO : PROGRESS: at 59.07% examples, 84203 words/s, in_qsize 7, out_qsize 0\n",
      "2018-04-17 14:39:32,984 : MainThread : INFO : PROGRESS: at 59.39% examples, 84283 words/s, in_qsize 7, out_qsize 0\n",
      "2018-04-17 14:39:34,108 : MainThread : INFO : PROGRESS: at 59.66% examples, 84304 words/s, in_qsize 7, out_qsize 0\n",
      "2018-04-17 14:39:35,190 : MainThread : INFO : PROGRESS: at 59.98% examples, 84328 words/s, in_qsize 7, out_qsize 0\n",
      "2018-04-17 14:39:36,239 : MainThread : INFO : PROGRESS: at 60.28% examples, 84390 words/s, in_qsize 7, out_qsize 0\n",
      "2018-04-17 14:39:37,252 : MainThread : INFO : PROGRESS: at 60.57% examples, 84417 words/s, in_qsize 7, out_qsize 0\n",
      "2018-04-17 14:39:38,261 : MainThread : INFO : PROGRESS: at 60.86% examples, 84478 words/s, in_qsize 7, out_qsize 0\n",
      "2018-04-17 14:39:39,327 : MainThread : INFO : PROGRESS: at 61.16% examples, 84552 words/s, in_qsize 8, out_qsize 0\n",
      "2018-04-17 14:39:40,516 : MainThread : INFO : PROGRESS: at 61.43% examples, 84468 words/s, in_qsize 7, out_qsize 0\n",
      "2018-04-17 14:39:41,622 : MainThread : INFO : PROGRESS: at 61.63% examples, 84365 words/s, in_qsize 7, out_qsize 0\n",
      "2018-04-17 14:39:42,781 : MainThread : INFO : PROGRESS: at 61.85% examples, 84265 words/s, in_qsize 7, out_qsize 0\n",
      "2018-04-17 14:39:43,886 : MainThread : INFO : PROGRESS: at 62.07% examples, 84172 words/s, in_qsize 7, out_qsize 0\n",
      "2018-04-17 14:39:44,912 : MainThread : INFO : PROGRESS: at 62.24% examples, 84088 words/s, in_qsize 7, out_qsize 0\n",
      "2018-04-17 14:39:45,962 : MainThread : INFO : PROGRESS: at 62.43% examples, 83956 words/s, in_qsize 8, out_qsize 0\n",
      "2018-04-17 14:39:47,031 : MainThread : INFO : PROGRESS: at 62.63% examples, 83909 words/s, in_qsize 8, out_qsize 0\n",
      "2018-04-17 14:39:48,175 : MainThread : INFO : PROGRESS: at 62.86% examples, 83790 words/s, in_qsize 7, out_qsize 0\n",
      "2018-04-17 14:39:49,430 : MainThread : INFO : PROGRESS: at 63.07% examples, 83678 words/s, in_qsize 8, out_qsize 0\n",
      "2018-04-17 14:39:50,493 : MainThread : INFO : PROGRESS: at 63.28% examples, 83583 words/s, in_qsize 7, out_qsize 0\n",
      "2018-04-17 14:39:51,776 : MainThread : INFO : PROGRESS: at 63.52% examples, 83445 words/s, in_qsize 7, out_qsize 0\n",
      "2018-04-17 14:39:52,879 : MainThread : INFO : PROGRESS: at 63.81% examples, 83484 words/s, in_qsize 7, out_qsize 0\n",
      "2018-04-17 14:39:53,909 : MainThread : INFO : PROGRESS: at 64.11% examples, 83536 words/s, in_qsize 7, out_qsize 0\n",
      "2018-04-17 14:39:55,014 : MainThread : INFO : PROGRESS: at 64.40% examples, 83559 words/s, in_qsize 7, out_qsize 0\n",
      "2018-04-17 14:39:56,131 : MainThread : INFO : PROGRESS: at 64.69% examples, 83595 words/s, in_qsize 8, out_qsize 0\n",
      "2018-04-17 14:39:57,234 : MainThread : INFO : PROGRESS: at 64.96% examples, 83547 words/s, in_qsize 8, out_qsize 0\n",
      "2018-04-17 14:39:58,251 : MainThread : INFO : PROGRESS: at 65.18% examples, 83556 words/s, in_qsize 7, out_qsize 0\n",
      "2018-04-17 14:39:59,308 : MainThread : INFO : PROGRESS: at 65.48% examples, 83594 words/s, in_qsize 7, out_qsize 0\n",
      "2018-04-17 14:40:00,343 : MainThread : INFO : PROGRESS: at 65.81% examples, 83649 words/s, in_qsize 7, out_qsize 0\n",
      "2018-04-17 14:40:01,416 : MainThread : INFO : PROGRESS: at 66.07% examples, 83628 words/s, in_qsize 7, out_qsize 0\n",
      "2018-04-17 14:40:02,441 : MainThread : INFO : PROGRESS: at 66.38% examples, 83702 words/s, in_qsize 7, out_qsize 0\n",
      "2018-04-17 14:40:03,470 : MainThread : INFO : PROGRESS: at 66.66% examples, 83762 words/s, in_qsize 8, out_qsize 0\n",
      "2018-04-17 14:40:04,589 : MainThread : INFO : PROGRESS: at 66.98% examples, 83812 words/s, in_qsize 7, out_qsize 0\n",
      "2018-04-17 14:40:05,620 : MainThread : INFO : PROGRESS: at 67.31% examples, 83867 words/s, in_qsize 7, out_qsize 0\n",
      "2018-04-17 14:40:06,626 : MainThread : INFO : PROGRESS: at 67.61% examples, 83922 words/s, in_qsize 7, out_qsize 0\n",
      "2018-04-17 14:40:07,793 : MainThread : INFO : PROGRESS: at 67.95% examples, 83986 words/s, in_qsize 7, out_qsize 0\n",
      "2018-04-17 14:40:08,821 : MainThread : INFO : PROGRESS: at 68.24% examples, 84045 words/s, in_qsize 7, out_qsize 0\n",
      "2018-04-17 14:40:09,861 : MainThread : INFO : PROGRESS: at 68.49% examples, 84030 words/s, in_qsize 7, out_qsize 0\n",
      "2018-04-17 14:40:10,965 : MainThread : INFO : PROGRESS: at 68.77% examples, 84026 words/s, in_qsize 7, out_qsize 0\n",
      "2018-04-17 14:40:12,040 : MainThread : INFO : PROGRESS: at 69.10% examples, 84066 words/s, in_qsize 7, out_qsize 0\n",
      "2018-04-17 14:40:13,068 : MainThread : INFO : PROGRESS: at 69.41% examples, 84132 words/s, in_qsize 7, out_qsize 0\n",
      "2018-04-17 14:40:14,217 : MainThread : INFO : PROGRESS: at 69.68% examples, 84154 words/s, in_qsize 7, out_qsize 0\n",
      "2018-04-17 14:40:15,285 : MainThread : INFO : PROGRESS: at 69.98% examples, 84184 words/s, in_qsize 7, out_qsize 0\n",
      "2018-04-17 14:40:16,330 : MainThread : INFO : PROGRESS: at 70.28% examples, 84202 words/s, in_qsize 7, out_qsize 0\n",
      "2018-04-17 14:40:17,421 : MainThread : INFO : PROGRESS: at 70.53% examples, 84170 words/s, in_qsize 7, out_qsize 0\n",
      "2018-04-17 14:40:18,458 : MainThread : INFO : PROGRESS: at 70.86% examples, 84248 words/s, in_qsize 8, out_qsize 0\n",
      "2018-04-17 14:40:19,521 : MainThread : INFO : PROGRESS: at 71.13% examples, 84283 words/s, in_qsize 7, out_qsize 0\n",
      "2018-04-17 14:40:20,688 : MainThread : INFO : PROGRESS: at 71.45% examples, 84279 words/s, in_qsize 7, out_qsize 0\n",
      "2018-04-17 14:40:21,784 : MainThread : INFO : PROGRESS: at 71.66% examples, 84227 words/s, in_qsize 7, out_qsize 0\n",
      "2018-04-17 14:40:22,971 : MainThread : INFO : PROGRESS: at 71.95% examples, 84189 words/s, in_qsize 7, out_qsize 0\n",
      "2018-04-17 14:40:24,126 : MainThread : INFO : PROGRESS: at 72.28% examples, 84237 words/s, in_qsize 7, out_qsize 0\n",
      "2018-04-17 14:40:25,292 : MainThread : INFO : PROGRESS: at 72.60% examples, 84281 words/s, in_qsize 7, out_qsize 0\n",
      "2018-04-17 14:40:26,397 : MainThread : INFO : PROGRESS: at 72.93% examples, 84314 words/s, in_qsize 8, out_qsize 0\n",
      "2018-04-17 14:40:27,413 : MainThread : INFO : PROGRESS: at 73.21% examples, 84374 words/s, in_qsize 7, out_qsize 0\n",
      "2018-04-17 14:40:28,423 : MainThread : INFO : PROGRESS: at 73.49% examples, 84396 words/s, in_qsize 7, out_qsize 0\n",
      "2018-04-17 14:40:29,475 : MainThread : INFO : PROGRESS: at 73.81% examples, 84436 words/s, in_qsize 7, out_qsize 0\n",
      "2018-04-17 14:40:30,598 : MainThread : INFO : PROGRESS: at 74.11% examples, 84449 words/s, in_qsize 7, out_qsize 0\n",
      "2018-04-17 14:40:31,716 : MainThread : INFO : PROGRESS: at 74.43% examples, 84490 words/s, in_qsize 7, out_qsize 0\n",
      "2018-04-17 14:40:32,735 : MainThread : INFO : PROGRESS: at 74.69% examples, 84519 words/s, in_qsize 8, out_qsize 0\n",
      "2018-04-17 14:40:33,741 : MainThread : INFO : PROGRESS: at 74.98% examples, 84564 words/s, in_qsize 7, out_qsize 0\n",
      "2018-04-17 14:40:34,791 : MainThread : INFO : PROGRESS: at 75.31% examples, 84608 words/s, in_qsize 7, out_qsize 0\n",
      "2018-04-17 14:40:35,829 : MainThread : INFO : PROGRESS: at 75.61% examples, 84643 words/s, in_qsize 7, out_qsize 0\n",
      "2018-04-17 14:40:36,855 : MainThread : INFO : PROGRESS: at 75.93% examples, 84709 words/s, in_qsize 7, out_qsize 0\n",
      "2018-04-17 14:40:37,888 : MainThread : INFO : PROGRESS: at 76.18% examples, 84734 words/s, in_qsize 7, out_qsize 0\n",
      "2018-04-17 14:40:38,984 : MainThread : INFO : PROGRESS: at 76.48% examples, 84752 words/s, in_qsize 7, out_qsize 0\n",
      "2018-04-17 14:40:40,022 : MainThread : INFO : PROGRESS: at 76.83% examples, 84824 words/s, in_qsize 7, out_qsize 0\n",
      "2018-04-17 14:40:41,132 : MainThread : INFO : PROGRESS: at 77.07% examples, 84795 words/s, in_qsize 8, out_qsize 0\n",
      "2018-04-17 14:40:42,142 : MainThread : INFO : PROGRESS: at 77.38% examples, 84828 words/s, in_qsize 7, out_qsize 0\n",
      "2018-04-17 14:40:43,198 : MainThread : INFO : PROGRESS: at 77.65% examples, 84837 words/s, in_qsize 7, out_qsize 0\n",
      "2018-04-17 14:40:44,356 : MainThread : INFO : PROGRESS: at 77.96% examples, 84836 words/s, in_qsize 7, out_qsize 0\n",
      "2018-04-17 14:40:45,535 : MainThread : INFO : PROGRESS: at 78.27% examples, 84871 words/s, in_qsize 7, out_qsize 0\n",
      "2018-04-17 14:40:46,561 : MainThread : INFO : PROGRESS: at 78.57% examples, 84892 words/s, in_qsize 7, out_qsize 0\n",
      "2018-04-17 14:40:47,660 : MainThread : INFO : PROGRESS: at 78.88% examples, 84929 words/s, in_qsize 7, out_qsize 0\n",
      "2018-04-17 14:40:48,714 : MainThread : INFO : PROGRESS: at 79.16% examples, 84970 words/s, in_qsize 7, out_qsize 0\n",
      "2018-04-17 14:40:49,904 : MainThread : INFO : PROGRESS: at 79.48% examples, 84988 words/s, in_qsize 7, out_qsize 0\n",
      "2018-04-17 14:40:51,077 : MainThread : INFO : PROGRESS: at 79.81% examples, 84994 words/s, in_qsize 7, out_qsize 0\n",
      "2018-04-17 14:40:52,127 : MainThread : INFO : PROGRESS: at 80.12% examples, 85031 words/s, in_qsize 7, out_qsize 0\n",
      "2018-04-17 14:40:53,202 : MainThread : INFO : PROGRESS: at 80.45% examples, 85099 words/s, in_qsize 7, out_qsize 0\n",
      "2018-04-17 14:40:54,248 : MainThread : INFO : PROGRESS: at 80.74% examples, 85141 words/s, in_qsize 7, out_qsize 0\n",
      "2018-04-17 14:40:55,351 : MainThread : INFO : PROGRESS: at 81.07% examples, 85163 words/s, in_qsize 7, out_qsize 0\n",
      "2018-04-17 14:40:56,469 : MainThread : INFO : PROGRESS: at 81.38% examples, 85194 words/s, in_qsize 7, out_qsize 0\n",
      "2018-04-17 14:40:57,470 : MainThread : INFO : PROGRESS: at 81.66% examples, 85248 words/s, in_qsize 7, out_qsize 0\n",
      "2018-04-17 14:40:58,514 : MainThread : INFO : PROGRESS: at 81.98% examples, 85272 words/s, in_qsize 7, out_qsize 0\n",
      "2018-04-17 14:40:59,602 : MainThread : INFO : PROGRESS: at 82.28% examples, 85304 words/s, in_qsize 7, out_qsize 0\n",
      "2018-04-17 14:41:00,636 : MainThread : INFO : PROGRESS: at 82.57% examples, 85316 words/s, in_qsize 7, out_qsize 0\n",
      "2018-04-17 14:41:01,699 : MainThread : INFO : PROGRESS: at 82.86% examples, 85345 words/s, in_qsize 8, out_qsize 0\n",
      "2018-04-17 14:41:02,765 : MainThread : INFO : PROGRESS: at 83.16% examples, 85397 words/s, in_qsize 7, out_qsize 0\n",
      "2018-04-17 14:41:03,772 : MainThread : INFO : PROGRESS: at 83.46% examples, 85403 words/s, in_qsize 8, out_qsize 0\n",
      "2018-04-17 14:41:04,873 : MainThread : INFO : PROGRESS: at 83.78% examples, 85458 words/s, in_qsize 7, out_qsize 0\n",
      "2018-04-17 14:41:05,909 : MainThread : INFO : PROGRESS: at 84.10% examples, 85496 words/s, in_qsize 7, out_qsize 0\n",
      "2018-04-17 14:41:06,963 : MainThread : INFO : PROGRESS: at 84.38% examples, 85515 words/s, in_qsize 7, out_qsize 0\n",
      "2018-04-17 14:41:07,967 : MainThread : INFO : PROGRESS: at 84.66% examples, 85565 words/s, in_qsize 7, out_qsize 0\n",
      "2018-04-17 14:41:09,089 : MainThread : INFO : PROGRESS: at 84.98% examples, 85568 words/s, in_qsize 7, out_qsize 0\n",
      "2018-04-17 14:41:10,168 : MainThread : INFO : PROGRESS: at 85.28% examples, 85601 words/s, in_qsize 7, out_qsize 0\n",
      "2018-04-17 14:41:11,201 : MainThread : INFO : PROGRESS: at 85.54% examples, 85586 words/s, in_qsize 7, out_qsize 0\n",
      "2018-04-17 14:41:12,296 : MainThread : INFO : PROGRESS: at 85.86% examples, 85630 words/s, in_qsize 7, out_qsize 0\n",
      "2018-04-17 14:41:13,394 : MainThread : INFO : PROGRESS: at 86.16% examples, 85671 words/s, in_qsize 7, out_qsize 0\n",
      "2018-04-17 14:41:14,412 : MainThread : INFO : PROGRESS: at 86.48% examples, 85700 words/s, in_qsize 7, out_qsize 0\n",
      "2018-04-17 14:41:15,578 : MainThread : INFO : PROGRESS: at 86.78% examples, 85709 words/s, in_qsize 7, out_qsize 0\n",
      "2018-04-17 14:41:16,650 : MainThread : INFO : PROGRESS: at 87.11% examples, 85753 words/s, in_qsize 7, out_qsize 0\n",
      "2018-04-17 14:41:17,743 : MainThread : INFO : PROGRESS: at 87.43% examples, 85792 words/s, in_qsize 7, out_qsize 0\n",
      "2018-04-17 14:41:18,759 : MainThread : INFO : PROGRESS: at 87.69% examples, 85813 words/s, in_qsize 7, out_qsize 0\n",
      "2018-04-17 14:41:19,778 : MainThread : INFO : PROGRESS: at 87.98% examples, 85846 words/s, in_qsize 7, out_qsize 0\n",
      "2018-04-17 14:41:20,870 : MainThread : INFO : PROGRESS: at 88.31% examples, 85868 words/s, in_qsize 7, out_qsize 0\n",
      "2018-04-17 14:41:21,873 : MainThread : INFO : PROGRESS: at 88.60% examples, 85888 words/s, in_qsize 7, out_qsize 0\n",
      "2018-04-17 14:41:22,885 : MainThread : INFO : PROGRESS: at 88.81% examples, 85849 words/s, in_qsize 7, out_qsize 0\n",
      "2018-04-17 14:41:23,924 : MainThread : INFO : PROGRESS: at 89.12% examples, 85884 words/s, in_qsize 7, out_qsize 0\n",
      "2018-04-17 14:41:24,955 : MainThread : INFO : PROGRESS: at 89.43% examples, 85929 words/s, in_qsize 7, out_qsize 0\n",
      "2018-04-17 14:41:25,968 : MainThread : INFO : PROGRESS: at 89.68% examples, 85952 words/s, in_qsize 7, out_qsize 0\n",
      "2018-04-17 14:41:27,059 : MainThread : INFO : PROGRESS: at 90.02% examples, 85962 words/s, in_qsize 7, out_qsize 0\n",
      "2018-04-17 14:41:28,083 : MainThread : INFO : PROGRESS: at 90.33% examples, 86026 words/s, in_qsize 7, out_qsize 0\n",
      "2018-04-17 14:41:29,109 : MainThread : INFO : PROGRESS: at 90.60% examples, 86044 words/s, in_qsize 7, out_qsize 0\n",
      "2018-04-17 14:41:30,198 : MainThread : INFO : PROGRESS: at 90.88% examples, 86024 words/s, in_qsize 7, out_qsize 0\n",
      "2018-04-17 14:41:31,219 : MainThread : INFO : PROGRESS: at 91.13% examples, 86041 words/s, in_qsize 7, out_qsize 0\n",
      "2018-04-17 14:41:32,235 : MainThread : INFO : PROGRESS: at 91.41% examples, 86023 words/s, in_qsize 8, out_qsize 0\n",
      "2018-04-17 14:41:33,354 : MainThread : INFO : PROGRESS: at 91.68% examples, 86041 words/s, in_qsize 7, out_qsize 0\n",
      "2018-04-17 14:41:34,359 : MainThread : INFO : PROGRESS: at 92.02% examples, 86071 words/s, in_qsize 7, out_qsize 0\n",
      "2018-04-17 14:41:35,434 : MainThread : INFO : PROGRESS: at 92.28% examples, 86076 words/s, in_qsize 7, out_qsize 0\n",
      "2018-04-17 14:41:36,554 : MainThread : INFO : PROGRESS: at 92.63% examples, 86128 words/s, in_qsize 7, out_qsize 0\n",
      "2018-04-17 14:41:37,656 : MainThread : INFO : PROGRESS: at 92.96% examples, 86160 words/s, in_qsize 7, out_qsize 0\n",
      "2018-04-17 14:41:38,840 : MainThread : INFO : PROGRESS: at 93.28% examples, 86187 words/s, in_qsize 7, out_qsize 0\n",
      "2018-04-17 14:41:40,006 : MainThread : INFO : PROGRESS: at 93.60% examples, 86215 words/s, in_qsize 7, out_qsize 0\n",
      "2018-04-17 14:41:41,152 : MainThread : INFO : PROGRESS: at 93.90% examples, 86203 words/s, in_qsize 8, out_qsize 1\n",
      "2018-04-17 14:41:42,277 : MainThread : INFO : PROGRESS: at 94.18% examples, 86220 words/s, in_qsize 8, out_qsize 0\n",
      "2018-04-17 14:41:43,406 : MainThread : INFO : PROGRESS: at 94.48% examples, 86223 words/s, in_qsize 7, out_qsize 0\n",
      "2018-04-17 14:41:44,561 : MainThread : INFO : PROGRESS: at 94.81% examples, 86229 words/s, in_qsize 7, out_qsize 0\n",
      "2018-04-17 14:41:45,687 : MainThread : INFO : PROGRESS: at 95.12% examples, 86238 words/s, in_qsize 7, out_qsize 0\n",
      "2018-04-17 14:41:46,702 : MainThread : INFO : PROGRESS: at 95.38% examples, 86240 words/s, in_qsize 7, out_qsize 0\n",
      "2018-04-17 14:41:47,704 : MainThread : INFO : PROGRESS: at 95.66% examples, 86283 words/s, in_qsize 7, out_qsize 0\n",
      "2018-04-17 14:41:48,725 : MainThread : INFO : PROGRESS: at 95.98% examples, 86306 words/s, in_qsize 7, out_qsize 0\n",
      "2018-04-17 14:41:49,727 : MainThread : INFO : PROGRESS: at 96.24% examples, 86328 words/s, in_qsize 7, out_qsize 0\n",
      "2018-04-17 14:41:50,774 : MainThread : INFO : PROGRESS: at 96.54% examples, 86333 words/s, in_qsize 7, out_qsize 0\n",
      "2018-04-17 14:41:51,860 : MainThread : INFO : PROGRESS: at 96.78% examples, 86304 words/s, in_qsize 7, out_qsize 0\n",
      "2018-04-17 14:41:52,913 : MainThread : INFO : PROGRESS: at 97.10% examples, 86332 words/s, in_qsize 7, out_qsize 0\n",
      "2018-04-17 14:41:53,957 : MainThread : INFO : PROGRESS: at 97.33% examples, 86310 words/s, in_qsize 7, out_qsize 0\n",
      "2018-04-17 14:41:55,059 : MainThread : INFO : PROGRESS: at 97.60% examples, 86282 words/s, in_qsize 7, out_qsize 0\n",
      "2018-04-17 14:41:56,060 : MainThread : INFO : PROGRESS: at 97.86% examples, 86294 words/s, in_qsize 7, out_qsize 0\n",
      "2018-04-17 14:41:57,072 : MainThread : INFO : PROGRESS: at 98.11% examples, 86279 words/s, in_qsize 7, out_qsize 0\n",
      "2018-04-17 14:41:58,118 : MainThread : INFO : PROGRESS: at 98.41% examples, 86301 words/s, in_qsize 7, out_qsize 0\n",
      "2018-04-17 14:41:59,139 : MainThread : INFO : PROGRESS: at 98.66% examples, 86317 words/s, in_qsize 7, out_qsize 0\n",
      "2018-04-17 14:42:00,171 : MainThread : INFO : PROGRESS: at 98.98% examples, 86337 words/s, in_qsize 7, out_qsize 0\n",
      "2018-04-17 14:42:01,230 : MainThread : INFO : PROGRESS: at 99.21% examples, 86325 words/s, in_qsize 7, out_qsize 0\n",
      "2018-04-17 14:42:02,276 : MainThread : INFO : PROGRESS: at 99.48% examples, 86323 words/s, in_qsize 7, out_qsize 0\n",
      "2018-04-17 14:42:03,346 : MainThread : INFO : PROGRESS: at 99.81% examples, 86348 words/s, in_qsize 7, out_qsize 0\n",
      "2018-04-17 14:42:03,852 : MainThread : INFO : worker thread finished; awaiting finish of 3 more threads\n",
      "2018-04-17 14:42:03,855 : MainThread : INFO : worker thread finished; awaiting finish of 2 more threads\n",
      "2018-04-17 14:42:03,869 : MainThread : INFO : worker thread finished; awaiting finish of 1 more threads\n",
      "2018-04-17 14:42:03,928 : MainThread : INFO : worker thread finished; awaiting finish of 0 more threads\n",
      "2018-04-17 14:42:03,930 : MainThread : INFO : training on 37584800 raw words (33317115 effective words) took 385.6s, 86395 effective words/s\n",
      "2018-04-17 14:42:03,931 : MainThread : INFO : precomputing L2-norms of word weight vectors\n",
      "2018-04-17 14:42:04,020 : MainThread : INFO : saving Doc2Vec object under /home/marco/gdrive/research/nlp/data/v4/2008/doc2vec.model.2008, separately None\n",
      "2018-04-17 14:42:04,021 : MainThread : INFO : not storing attribute syn0norm\n",
      "2018-04-17 14:42:04,022 : MainThread : INFO : not storing attribute cum_table\n",
      "2018-04-17 14:42:04,175 : MainThread : INFO : saved /home/marco/gdrive/research/nlp/data/v4/2008/doc2vec.model.2008\n"
     ]
    },
    {
     "name": "stdout",
     "output_type": "stream",
     "text": [
      "Saving model  /home/marco/gdrive/research/nlp/data/v4/2008/doc2vec.model.2008\n"
     ]
    }
   ],
   "source": [
    "# creating doc2vec model for the current year\n",
    "model = doc2vec.Doc2Vec(size=300, window=100, min_count=2, iter=200, workers=4, dm=1, negative=10)\n",
    "model.build_vocab(docs)\n",
    "model.train(docs, total_examples=model.corpus_count, epochs=model.iter)\n",
    "model.init_sims(replace=True)\n",
    "\n",
    "# save model on disk\n",
    "nameModel = \"doc2vec.model.\" + str(year)\n",
    "fullname = path.join(dirFull,nameModel)\n",
    "print(\"Saving model \", fullname)\n",
    "model.save(fullname)\n",
    "model.delete_temporary_training_data(keep_doctags_vectors=True, keep_inference=True)\n",
    "\n",
    "# save mapping id-->tag on disk\n",
    "#nameMap = \"mapping.doc2vec.\" + str(year)\n",
    "#fullname = path.join(dirFull,nameMap)\n",
    "#print(\"Saving mapping \", fullname)\n",
    "#f = open(fullname, \"w\")\n",
    "#writer = csv.writer(f)\n",
    "#for i in range(len(absID)):\n",
    "#    writer.writerow([i,absID[i]])\n",
    "#f.close()\n"
   ]
  },
  {
   "cell_type": "code",
   "execution_count": 33,
   "metadata": {
    "collapsed": false,
    "deletable": true,
    "editable": true
   },
   "outputs": [
    {
     "name": "stdout",
     "output_type": "stream",
     "text": [
      "199\n"
     ]
    }
   ],
   "source": [
    "print(len(model.docvecs))"
   ]
  },
  {
   "cell_type": "markdown",
   "metadata": {
    "deletable": true,
    "editable": true
   },
   "source": [
    "## Task 3: Using doc2vec model\n",
    "\n",
    "Here, we upload a doc2vec model for a specific year and use it to build a distance matrix. In addition, to separate model creation from model use, we need to find out which documents belong to the corpus.\n",
    "\n",
    "**Rem.:** There are two ways of using a doc2vec model: i. Getting the embedding of a document stored within the doc2vec model. Obviously, this requires that the document was actually used in the doc2vec creation phase. We also need to know the tag associated to that document. We can then refer to the embedding using the tag; (ii) Inferring an embedding vector and treating the document as a new, unseen one. In this case, whether the document was used or not durign the doc2vec model creation phase does not matter, since the model will provide an embedding for a document, treating it as unseen. \n",
    "\n",
    "While approach i. is deterministic (it always returns the same embedding for a document), approach ii. is stochastic (the embedding vector is different every time we ask to compute the inferred vector."
   ]
  },
  {
   "cell_type": "code",
   "execution_count": 7,
   "metadata": {
    "collapsed": false,
    "deletable": true,
    "editable": true
   },
   "outputs": [
    {
     "name": "stderr",
     "output_type": "stream",
     "text": [
      "2018-04-17 08:42:08,302 : MainThread : INFO : loading Doc2Vec object from /home/marco/gdrive/research/nlp/data/v4/2015/doc2vec.model.2015\n",
      "2018-04-17 08:42:08,436 : MainThread : INFO : loading wv recursively from /home/marco/gdrive/research/nlp/data/v4/2015/doc2vec.model.2015.wv.* with mmap=None\n",
      "2018-04-17 08:42:08,437 : MainThread : INFO : setting ignored attribute syn0norm to None\n",
      "2018-04-17 08:42:08,439 : MainThread : INFO : loading docvecs recursively from /home/marco/gdrive/research/nlp/data/v4/2015/doc2vec.model.2015.docvecs.* with mmap=None\n",
      "2018-04-17 08:42:08,440 : MainThread : INFO : setting ignored attribute cum_table to None\n",
      "2018-04-17 08:42:08,442 : MainThread : INFO : loaded /home/marco/gdrive/research/nlp/data/v4/2015/doc2vec.model.2015\n"
     ]
    },
    {
     "name": "stdout",
     "output_type": "stream",
     "text": [
      "Loading model  /home/marco/gdrive/research/nlp/data/v4/2015/doc2vec.model.2015\n",
      "The model contains 68 vectors.\n"
     ]
    }
   ],
   "source": [
    "# define the year and read corresponding doc2vec model\n",
    "year = \"2015\"\n",
    "dirFull = path.join(prefix,perDayFolders) + year\n",
    "fullname = dirFull + \"/doc2vec.model.\" + year\n",
    "print(\"Loading model \", fullname)\n",
    "modelDoc2Vec = doc2vec.Doc2Vec.load(fullname)\n",
    "print(\"The model contains {0} vectors.\".format(len(modelDoc2Vec.docvecs)))\n"
   ]
  },
  {
   "cell_type": "code",
   "execution_count": 8,
   "metadata": {
    "collapsed": false,
    "deletable": true,
    "editable": true
   },
   "outputs": [
    {
     "name": "stderr",
     "output_type": "stream",
     "text": [
      "2018-04-17 08:42:14,122 : MainThread : INFO : precomputing L2-norms of word weight vectors\n"
     ]
    },
    {
     "data": {
      "text/plain": [
       "[('morning', 0.8003968000411987),\n",
       " ('session', 0.5685198307037354),\n",
       " ('comes', 0.5152820944786072),\n",
       " ('distributing', 0.48078060150146484),\n",
       " ('essential', 0.44736558198928833),\n",
       " ('happen', 0.44607722759246826),\n",
       " ('instructions', 0.4353036880493164),\n",
       " ('question', 0.3995822072029114),\n",
       " ('pharmaceuticals', 0.3972008526325226),\n",
       " ('pinnacle', 0.3752984404563904)]"
      ]
     },
     "execution_count": 8,
     "metadata": {},
     "output_type": "execute_result"
    }
   ],
   "source": [
    "# just a little test\n",
    "modelDoc2Vec.most_similar(\"good\")"
   ]
  },
  {
   "cell_type": "code",
   "execution_count": null,
   "metadata": {
    "collapsed": false,
    "deletable": true,
    "editable": true
   },
   "outputs": [],
   "source": [
    "modelDoc2Vec.wv.vocab # to get the vocabulary"
   ]
  },
  {
   "cell_type": "markdown",
   "metadata": {
    "deletable": true,
    "editable": true
   },
   "source": [
    "## Task 3: Distance Matrix Computation\n",
    "\n",
    "We can use two approaches to similarity computation:\n",
    "- Using the actual doc2vec embedding vector\n",
    "- Using an inferred vector\n"
   ]
  },
  {
   "cell_type": "markdown",
   "metadata": {
    "deletable": true,
    "editable": true
   },
   "source": [
    "### Using the actual doc2vec embedding vector\n",
    "\n",
    "Each document in the corpus is now associated to a vector, contained in the doc2vec model. We can simply get the vector by using `modelDoc2Vec[doc]` to get the embedding of the document. However, the problem here is that, if in the model creation phase we eliminated, e.g., all the words that appear only once (`min_count=2`), then it might happen that we cannot get back the actual vector associated to `doc` (an error message notifies that a given word is not in the vocabulary.) We thus need to screen the document and eliminate all the words that are not in the vocabulary. \n",
    "\n",
    "Alternatively, and much simpler, we can get the tag of each document in the current corpus, and directly obtain the embedding of that document using `modelDoc2Vec.docvecs[tag]`. Since here we are accessing a pre-computed embedding, without using the actual document, we do not have the problem described above. Note that, in this case, we do not even need to load the document in memory, since with the tag it will suffice.\n",
    "\n",
    "Let us first get a list of documents tag to be used to compute the distance matrix. Which documents should be included here depends on the strategy used. For now, assume we want to use all the documents of a given year. \n",
    "\n",
    "__Note:__ In this case, we do not even need to load the corpus. We just need to create a list of tags corresponding to the documents we want to use in the distance matrix computation."
   ]
  },
  {
   "cell_type": "code",
   "execution_count": 9,
   "metadata": {
    "collapsed": false,
    "deletable": true,
    "editable": true
   },
   "outputs": [
    {
     "name": "stdout",
     "output_type": "stream",
     "text": [
      "[972, 973, 974, 975, 976, 977, 978, 979, 980, 981, 982, 983, 984, 985, 986, 987, 988, 989, 990, 991, 992, 993, 994, 995, 996, 997, 998, 999]\n"
     ]
    }
   ],
   "source": [
    "# get absolute tag for all documents belonging to a given year\n",
    "year = \"2015\"\n",
    "tagList = []\n",
    "nRows = len(dfMap)\n",
    "for row in range(nRows):\n",
    "    #print(dfMap.iloc[row])\n",
    "    if dfMap.iloc[row][\"year\"] == int(year):\n",
    "        #print(\"file \", dfMap.iloc[row][\"name\"], \" selected\")\n",
    "        tagList.append(dfMap.iloc[row][\"tag\"])\n",
    "print(tagList)"
   ]
  },
  {
   "cell_type": "code",
   "execution_count": null,
   "metadata": {
    "collapsed": false,
    "deletable": true,
    "editable": true
   },
   "outputs": [],
   "source": [
    "print(sorted(corpus2tag.values()))\n",
    "print(sorted(corpus2tag.keys()))"
   ]
  },
  {
   "cell_type": "markdown",
   "metadata": {
    "deletable": true,
    "editable": true
   },
   "source": [
    "Now, compute the pairwise distances among all the documents in the `tagList`. The distance matrix is stored in long format in a disk file. Note that we store only the upper diagonal matrix (since distances are symmetric here). The format is:\n",
    "- first row: number of documents in this corpus, e.g., $n$. Thus, the number of pairwise distances in the file is $n(n+1)/2$.)\n",
    "- second row: list of tagged documents included in this distance matrix ($n$ elements)\n",
    "- from row 3 to $n(n+1)/2 + 3$, the following table:\n",
    "\n",
    "|from|to|distance|\n",
    "|----|----|-----|\n",
    "|0|0|0|\n",
    "|0|1|0.23|\n",
    "|..|..|..|\n"
   ]
  },
  {
   "cell_type": "code",
   "execution_count": 10,
   "metadata": {
    "collapsed": false,
    "deletable": true,
    "editable": true
   },
   "outputs": [
    {
     "name": "stdout",
     "output_type": "stream",
     "text": [
      "Distance Matrix saved ::  /home/marco/gdrive/research/nlp/data/v4/2015/doc2vecDistMatrix.txt.2015\n"
     ]
    }
   ],
   "source": [
    "nDocs = len(tagList)\n",
    "nameMatrix = \"doc2vecDistMatrix.txt.\" + str(year)\n",
    "fullname = path.join(dirFull,nameMatrix)\n",
    "\n",
    "f = open(fullname, \"w\")\n",
    "writer = csv.writer(f)\n",
    "writer.writerow([nDocs])\n",
    "writer.writerow(tagList)\n",
    "vals = [ [0.0 for i in range(nDocs)] for j in range(nDocs)]\n",
    "    \n",
    "for i in range(nDocs):\n",
    "    tag_i = tagList[i]\n",
    "        \n",
    "    for j in range(i,nDocs):\n",
    "        tag_j = tagList[j]\n",
    "        val = round(1.0-modelDoc2Vec.docvecs.similarity(str(tag_i),str(tag_j)), 4)\n",
    "        writer.writerow([tag_i, tag_j, val])\n",
    "\n",
    "f.close()\n",
    "print(\"Distance Matrix saved :: \", fullname)  "
   ]
  },
  {
   "cell_type": "markdown",
   "metadata": {
    "deletable": true,
    "editable": true
   },
   "source": [
    "### Using an inferred vector\n",
    "\n",
    "[__Note:__ To use this part, we need to upload the corpus itself. It is not enough to have the tags associated to the documents of the corpus]. With _gensim_, it is possible to infer a vector associated to an (unseen) document. In this case, whether or not all the words of a document are in the vocabulary no longer matters. One could then create an inferred vector for each document in the corpus and find the closest document in the corpus w.r.t. the inferred vector. If the doc2vec model works, the closest document should always be itself. To test the quality of the doc2vec model used, we can then count how many time the closest document to each inferred vector is actually the original document itself.\n",
    "\n",
    "Let us run a test to determine whether the doc2vec model is accurate. We compute the inferred vector for each document in the corpus. Next, we find the most similar document to each inferred vector. If the doc2vec model works, each document should return **itself** as most similar. Finally, we count how many times this happens (ideally, all the times).\n",
    "\n",
    "At this stage, the accuracy of the answer seems to depend on the number of iterations used to generate the inferred vector.\n",
    " "
   ]
  },
  {
   "cell_type": "code",
   "execution_count": 95,
   "metadata": {
    "collapsed": false,
    "deletable": true,
    "editable": true
   },
   "outputs": [
    {
     "name": "stdout",
     "output_type": "stream",
     "text": [
      "Considering year  2015\n",
      "Corpus with    28 documents.\n",
      "List of Tags ::  [982, 981, 986, 985, 996, 972, 992, 987, 976, 998, 999, 980, 997, 991, 990, 984, 983, 995, 977, 989, 973, 988, 993, 979, 974, 975, 994, 978]\n"
     ]
    }
   ],
   "source": [
    "corpus = []\n",
    "listOfTags = []\n",
    "print(\"Considering year \", year)\n",
    "dirFull = path.join(prefix,perDayFolders) + str(year)\n",
    "\n",
    "for ff in listdir(dirFull):\n",
    "    filteredList = path.join(dirFull,ff) + \"/*.txt.pre\"\n",
    "    for f in glob.glob(filteredList):\n",
    "        name = f.split(\"/\")[-1]\n",
    "        name = name[:-4]\n",
    "        listOfTags.append(file2tag[name])\n",
    "\n",
    "        fullname = path.join(dirFull, ff, f)\n",
    "        fToken = open(fullname, \"r\")\n",
    "        readerDoc = csv.reader(fToken)\n",
    "        doc = next(readerDoc)\n",
    "        fToken.close()\n",
    "        corpus.append(doc)\n",
    "\n",
    "print(\"Corpus with {0:5d} documents.\".format(len(corpus)))\n",
    "print(\"List of Tags :: \", listOfTags)\n"
   ]
  },
  {
   "cell_type": "code",
   "execution_count": null,
   "metadata": {
    "collapsed": false,
    "deletable": true,
    "editable": true
   },
   "outputs": [],
   "source": [
    "ranks = []\n",
    "for id in range(len(corpus)):\n",
    "\n",
    "    inferred_vector = modelDoc2Vec.infer_vector(corpus[id], steps=200)\n",
    "    tag = listOfTags[id] # this is int\n",
    "    #print(inferred_vector)\n",
    "    sims = modelDoc2Vec.docvecs.most_similar([inferred_vector], topn=len(modelDoc2Vec.docvecs))\n",
    "    rank = [i for i,j in sims].index(str(tag))\n",
    "    print(\"Vector {0:3d} : Rank = {1:3d} with score {2:5.3f}\".format(id,rank,sims[rank][1]))\n",
    "    ranks.append(rank)\n",
    "    \n",
    "collections.Counter(ranks) "
   ]
  },
  {
   "cell_type": "markdown",
   "metadata": {
    "deletable": true,
    "editable": true
   },
   "source": [
    "## Task 4: Clustering\n",
    "\n",
    "We now use the distance matrix saved on disk within each folder to carry out a specific type of analysis. For now, we use hierarchical clustering. The goal, though, is to see how clusters change over time and other type of analysis to study correlations among PR."
   ]
  },
  {
   "cell_type": "code",
   "execution_count": 123,
   "metadata": {
    "collapsed": true,
    "deletable": true,
    "editable": true
   },
   "outputs": [],
   "source": [
    "import scipy.spatial.distance as ssd\n",
    "from scipy.cluster.hierarchy import dendrogram, linkage, fcluster, cophenet\n"
   ]
  },
  {
   "cell_type": "code",
   "execution_count": 130,
   "metadata": {
    "collapsed": false,
    "deletable": true,
    "editable": true
   },
   "outputs": [
    {
     "name": "stdout",
     "output_type": "stream",
     "text": [
      "[972, 973, 974, 975, 976, 977, 978, 979, 980, 981, 982, 983, 984, 985, 986, 987, 988, 989, 990, 991, 992, 993, 994, 995, 996, 997, 998, 999]\n"
     ]
    }
   ],
   "source": [
    "### read distance matrix\n",
    "year = \"2015\"\n",
    "nameMatrix = \"doc2vecDistMatrix.txt.\" + str(year)\n",
    "fullname = path.join(dirFull,nameMatrix)\n",
    "\n",
    "f = open(fullname, \"r\")\n",
    "reader = csv.reader(f)\n",
    "nDocs = int(next(reader)[0])\n",
    "auxList = next(reader)\n",
    "tagList = [int(auxList[i]) for i in range(len(auxList))]\n",
    "\n",
    "distMatrix = [ [0.0 for i in range(nDocs)] for j in range(nDocs)]\n",
    "i = -1\n",
    "j = 0\n",
    "for row in reader:\n",
    "    if j % nDocs == 0:\n",
    "        i += 1\n",
    "        j = i\n",
    "    ix = int(row[0])\n",
    "    jx = int(row[1])\n",
    "    d = float(row[2])\n",
    "\n",
    "    distMatrix[i][j] = d\n",
    "    distMatrix[j][i] = d\n",
    "    \n",
    "    #print(\"distance from {0:5d} ({1:5d}) to {2:5d} ({3:5d}) is {4:7.4f}\".format(ix,i, jx, j,d))\n",
    "    j += 1\n",
    "\n",
    "f.close()"
   ]
  },
  {
   "cell_type": "code",
   "execution_count": 125,
   "metadata": {
    "collapsed": false,
    "deletable": true,
    "editable": true
   },
   "outputs": [
    {
     "name": "stdout",
     "output_type": "stream",
     "text": [
      "[ ward      ] Cophenetic =  0.76\n",
      "[ median    ] Cophenetic =  0.82\n",
      "[ average   ] Cophenetic =  0.86\n",
      "[ single    ] Cophenetic =  0.84\n",
      "[ complete  ] Cophenetic =  0.70\n"
     ]
    }
   ],
   "source": [
    "distArray = ssd.squareform(np.asmatrix(distMatrix), checks=False)\n",
    "methods = [\"ward\", \"median\", \"average\", \"single\", \"complete\"]\n",
    "bestVal = 0.0\n",
    "bestMethod = \" \"\n",
    "for mm in methods:\n",
    "    Z = linkage(distArray, method=mm, optimal_ordering=True)\n",
    "    c, cophDist = cophenet(Z, distArray)\n",
    "    print(\"[ {0:10s}] Cophenetic = {1:5.2f}\".format(mm,c))\n",
    "    if c > bestVal:\n",
    "        bestVal = c\n",
    "        bestMethod = mm\n",
    "        \n",
    "Z = linkage(distArray, method=bestMethod, optimal_ordering=True)\n"
   ]
  },
  {
   "cell_type": "code",
   "execution_count": 126,
   "metadata": {
    "collapsed": false,
    "deletable": true,
    "editable": true
   },
   "outputs": [
    {
     "data": {
      "image/png": "[encoded data removed]",
      "text/plain": [
       "<matplotlib.figure.Figure at 0x7f478c507ac8>"
      ]
     },
     "metadata": {},
     "output_type": "display_data"
    }
   ],
   "source": [
    "plt.figure(figsize=(25,10))\n",
    "plt.title(\"Hierarchical Clustering Press Releases\")\n",
    "pp= dendrogram(\n",
    "    Z,\n",
    "    leaf_rotation=90,\n",
    "    leaf_font_size=8.,\n",
    "    show_leaf_counts=True,\n",
    "    get_leaves=True,\n",
    "#    truncate_mode=\"level\",\n",
    "#    p = 5\n",
    ")\n",
    "plt.show()\n",
    "\n"
   ]
  },
  {
   "cell_type": "markdown",
   "metadata": {
    "deletable": true,
    "editable": true
   },
   "source": [
    "An alternative approach is based on the use of a k-mean clustering algorithm from the nltk library. The algorithm uses the vectors associated to each document (rather than the distance matrix.) Therefore, we need to get the embeddings of the documents in the current corpus."
   ]
  },
  {
   "cell_type": "code",
   "execution_count": 127,
   "metadata": {
    "collapsed": true,
    "deletable": true,
    "editable": true
   },
   "outputs": [],
   "source": [
    "import nltk\n",
    "from nltk.cluster import KMeansClusterer"
   ]
  },
  {
   "cell_type": "code",
   "execution_count": null,
   "metadata": {
    "collapsed": false,
    "deletable": true,
    "editable": true
   },
   "outputs": [],
   "source": [
    "# read doc2vec model\n",
    "year = \"2015\"\n",
    "dirFull = path.join(prefix,perDayFolders) + year\n",
    "fullname = dirFull + \"/doc2vec.model.\" + year\n",
    "print(\"Loading model \", fullname)\n",
    "modelDoc2Vec = doc2vec.Doc2Vec.load(fullname)\n",
    "print(\"The model contains {0} vectors.\".format(len(modelDoc2Vec.docvecs)))\n",
    "\n",
    "nameMatrix = \"doc2vecDistMatrix.txt.\" + str(year)\n",
    "fullname = path.join(dirFull,nameMatrix)\n",
    "# get taglist\n",
    "f = open(fullname, \"r\")\n",
    "reader = csv.reader(f)\n",
    "nDocs = int(next(reader)[0])\n",
    "auxList = next(reader)\n",
    "tagList = [int(auxList[i]) for i in range(len(auxList))]\n",
    "f.close()\n",
    "print(\"Taglist is = \", tagList)"
   ]
  },
  {
   "cell_type": "code",
   "execution_count": 137,
   "metadata": {
    "collapsed": false,
    "deletable": true,
    "editable": true
   },
   "outputs": [
    {
     "name": "stdout",
     "output_type": "stream",
     "text": [
      "Clusters Labels =  [3, 2, 0, 2, 0, 0, 1, 2, 3, 2, 3, 1, 2, 2, 0, 2, 2, 2, 3, 2, 1, 3, 3, 1, 3, 3, 2, 1]\n"
     ]
    }
   ],
   "source": [
    "num_clusters = 4\n",
    "vectors = [modelDoc2Vec.docvecs[str(i)] for i in tagList]\n",
    "kclusterer = KMeansClusterer(num_clusters,\n",
    "                            distance =nltk.cluster.util.cosine_distance,\n",
    "                            repeats=500)\n",
    "labels = kclusterer.cluster(vectors, assign_clusters=True)\n",
    "print(\"Clusters Labels = \", labels)"
   ]
  },
  {
   "cell_type": "markdown",
   "metadata": {
    "deletable": true,
    "editable": true
   },
   "source": [
    "## Statistical Analysis of Distance Matrix"
   ]
  },
  {
   "cell_type": "code",
   "execution_count": 15,
   "metadata": {
    "collapsed": false,
    "deletable": true,
    "editable": true
   },
   "outputs": [],
   "source": [
    "def readDistMatrix(year):\n",
    "\n",
    "    nameMatrix = \"doc2vecDistMatrix.txt.\" + str(year)\n",
    "\n",
    "    fullname = path.join(prefix,perDayFolders,year,nameMatrix)\n",
    "    print(\"Fullname = \", fullname)\n",
    "    f = open(fullname, \"r\")\n",
    "    reader = csv.reader(f)\n",
    "    nDocs = int(next(reader)[0])\n",
    "    print(\"NDocs = \", nDocs)\n",
    "    distMatrix = [ [0.0 for i in range(nDocs)] for j in range(nDocs)]\n",
    "    auxList = next(reader)\n",
    "    tagList = [int(auxList[i]) for i in range(len(auxList))]\n",
    "    i = -1\n",
    "    j =  0\n",
    "    for row in reader:\n",
    "        if j % nDocs == 0:\n",
    "            i += 1\n",
    "            j  = i\n",
    "        ix = int(row[0])\n",
    "        jx = int(row[1])\n",
    "        d  = float(row[2])\n",
    "        distMatrix[i][j] = d\n",
    "        distMatrix[j][i] = d\n",
    "        j += 1\n",
    "    f.close()\n",
    "    return distMatrix\n"
   ]
  },
  {
   "cell_type": "code",
   "execution_count": 32,
   "metadata": {
    "collapsed": true,
    "deletable": true,
    "editable": true
   },
   "outputs": [],
   "source": [
    "import matplotlib.pyplot as plt\n",
    "import seaborn as sns"
   ]
  },
  {
   "cell_type": "code",
   "execution_count": 42,
   "metadata": {
    "collapsed": false,
    "deletable": true,
    "editable": true
   },
   "outputs": [
    {
     "name": "stdout",
     "output_type": "stream",
     "text": [
      "Fullname =  /home/marco/gdrive/research/nlp/data/v4/2006/doc2vecDistMatrix.txt.2006\n",
      "NDocs =  90\n",
      "[0.         0.05454545 0.10909091 0.16363636 0.21818182 0.27272727\n",
      " 0.32727273 0.38181818 0.43636364 0.49090909 0.54545455 0.6       ]\n"
     ]
    },
    {
     "data": {
      "image/png": "[encoded data removed]",
      "text/plain": [
       "<matplotlib.figure.Figure at 0x7f9b47757a90>"
      ]
     },
     "metadata": {},
     "output_type": "display_data"
    }
   ],
   "source": [
    "distMatrix = readDistMatrix(\"2006\")\n",
    "np.mean(distMatrix)\n",
    "\n",
    "dd = [distMatrix[i][j] for i in range(nDocs) for j in range(nDocs)]\n",
    "\n",
    "bins = np.linspace(0, 0.6, 12)\n",
    "plt.hist(dd,bins=bins,alpha=0.5,edgecolor=\"black\",normed=True)\n",
    "plt.show()"
   ]
  },
  {
   "cell_type": "markdown",
   "metadata": {
    "deletable": true,
    "editable": true
   },
   "source": [
    "Within the same company: Let us examine the distance within the same cik code."
   ]
  },
  {
   "cell_type": "code",
   "execution_count": null,
   "metadata": {
    "collapsed": true,
    "deletable": true,
    "editable": true
   },
   "outputs": [],
   "source": []
  }
 ],
 "metadata": {
  "kernelspec": {
   "display_name": "Python 3",
   "language": "python",
   "name": "python3"
  },
  "language_info": {
   "codemirror_mode": {
    "name": "ipython",
    "version": 3
   },
   "file_extension": ".py",
   "mimetype": "text/x-python",
   "name": "python",
   "nbconvert_exporter": "python",
   "pygments_lexer": "ipython3",
   "version": "3.5.1"
  }
 },
 "nbformat": 4,
 "nbformat_minor": 2
}
