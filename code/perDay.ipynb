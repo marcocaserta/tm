{
 "cells": [
  {
   "cell_type": "code",
   "execution_count": 2,
   "metadata": {
    "collapsed": false,
    "deletable": true,
    "editable": true
   },
   "outputs": [],
   "source": [
    "import os\n",
    "import csv\n",
    "import shutil\n",
    "import glob\n",
    "from nltk.corpus import stopwords\n",
    "from nltk import word_tokenize\n",
    "from os import path, listdir\n",
    "import collections\n",
    "from collections import namedtuple\n",
    "import numpy as np\n",
    "import matplotlib.pyplot as plt\n",
    "import pandas as pd\n",
    "\n",
    "folder = \"NEWS_TXT_v4/\"\n",
    "perDayFolders = \"v4/\"\n",
    "prefix = path.expanduser(\"~/gdrive/research/nlp/data/\")\n",
    "vocab_folder = \"google_vocab/\"\n",
    "stop_words = stopwords.words(\"english\")"
   ]
  },
  {
   "cell_type": "markdown",
   "metadata": {
    "deletable": true,
    "editable": true
   },
   "source": [
    "# Four Tasks\n",
    "\n",
    "-  Task 1: Files Preprocessing. Each press release should be preprocessed and stored on disk. These preprocessed files are the ones used to create the doc2vec model\n",
    "-  Task 2: doc2vec Model Generation. Progressively create doc2vec models, from year 0 to year \"t\", where t=1994,...,2015. These doc2vec models are stored within each year directory.\n",
    "-  Task 3: Distance Matrix Computation. Given a time period (a day, a month, etc.) load all the files belonging to that period (the corpus) and compute the distance matrix. This matric could be stored on disk.\n",
    "-  Task 4: Clustering. Use the distance matrix to carry out specific studies of press releases over time.\n",
    "\n",
    "In addition, there is also a Task 0, which is the restructuring and organization of the different folders. This is the first task carried out below."
   ]
  },
  {
   "cell_type": "markdown",
   "metadata": {
    "deletable": true,
    "editable": true
   },
   "source": [
    "## Task 0: Restructuring Directories and Moving Files\n",
    "\n",
    "Move each file in the corresponding year folder and, within the year, the corresponding day and month. For example, a file issued on January 21st, 2015 will be stored in the folder:\n",
    "\n",
    "-  2015/01_21/fullname.txt\n",
    "\n",
    "We also create a global mapping for all the files in the dataset. The mapping gives a unique identifier for each file in the dataset and it is saved in the file `mapping.txt`.\n"
   ]
  },
  {
   "cell_type": "code",
   "execution_count": null,
   "metadata": {
    "collapsed": false,
    "deletable": true,
    "editable": true
   },
   "outputs": [],
   "source": [
    "fmap = open(\"mapping.txt\", \"w\")\n",
    "\n",
    "fullpath = path.join(prefix,folder)\n",
    "for f in listdir(fullpath):\n",
    "    print(\"name is = \", f)\n",
    "    \n",
    "    fName = f[:-4]\n",
    "    print(\"Now fName is = \", fName)\n",
    "    fAux = fName.split(\"_\")\n",
    "    print(fAux)\n",
    "    year = fAux[1]\n",
    "    dirLevel1 = path.join(prefix,perDayFolders) + year\n",
    "    if not os.path.exists(dirLevel1):\n",
    "        os.makedirs(dirLevel1)\n",
    "    dirLevel2 = dirLevel1 + \"/\" + fAux[2] + \"_\" + fAux[3]\n",
    "    fmap.write(\"{0}\\t {1}\\t {2}\\t {3}\\t {4}\\n\".format(f,fAux[0],fAux[1],fAux[2],fAux[3]))\n",
    "    if not os.path.exists(dirLevel2):\n",
    "        os.makedirs(dirLevel2)\n",
    "    origin = fullpath + f\n",
    "    dest   = dirLevel2 + \"/\" + f\n",
    "    shutil.copy2(origin, dest)\n",
    "    print(\"copying from \", origin, \" to \", dest)\n",
    "    \n",
    "fmap.close()\n",
    "  "
   ]
  },
  {
   "cell_type": "markdown",
   "metadata": {
    "deletable": true,
    "editable": true
   },
   "source": [
    "## Task 1: Files Preprocessing\n",
    "\n",
    "We now get into each directory of the current year, and add each file within that directory to the corpus. In addition, we write a _preprocessed_ version of the file (suffix `.pre`)."
   ]
  },
  {
   "cell_type": "markdown",
   "metadata": {
    "deletable": true,
    "editable": true
   },
   "source": [
    "Let us first import the mapping filename $\\rightarrow$ tag. Here we are reading the whole list, i.e., the entire dataset. We define two structures to query the filename and the absolute id value:\n",
    "-  `file2tag`: Given a file name, it returns the corresponding unique identifier\n",
    "-  `tag2file`: Given a unique identifier, i.e., a tag, it returns the full file name (cik_year_month_day.txt)\n",
    "\n",
    "We also create a dataframe, `dfMap`, which contains all the information associated to a specific file, i.e., full name, cik, year, month, day, tag.\n",
    "\n",
    "For the preprocessing phase, we use the following criteria:\n",
    "- exclude all words with length $\\leq$ 2\n",
    "- exclude all words that are not alphabetic (`isalpha()` from nltk)\n",
    "- exclude stopwords\n",
    "- exclude all words which are not in the google news dictionary (cut to the 500k most frequent words)"
   ]
  },
  {
   "cell_type": "code",
   "execution_count": 282,
   "metadata": {
    "collapsed": false,
    "deletable": true,
    "editable": true
   },
   "outputs": [],
   "source": [
    "fullpath = path.join(prefix,vocab_folder)\n",
    "name_vocab = fullpath + \"embed500.vocab\"\n",
    "with open(name_vocab) as f:\n",
    "    vocab_list = map(str.strip,f.readlines())\n",
    "vocab_dict = {w:k for k,w in enumerate(vocab_list)}"
   ]
  },
  {
   "cell_type": "code",
   "execution_count": null,
   "metadata": {
    "collapsed": false,
    "deletable": true,
    "editable": true
   },
   "outputs": [],
   "source": [
    "nRows = sum(1 for line in open('mapping.txt'))\n",
    "dfMap = pd.DataFrame(index=np.arange(0, nRows), columns=('name', 'cik', 'year', 'month','day','tag') )\n",
    "\n",
    "with open(\"mapping.txt\", \"r\") as f:\n",
    "    row = 0\n",
    "    for line in f:\n",
    "        print(line)\n",
    "        line=line.rstrip() # remove \\n from each row\n",
    "        dfMap.loc[row] = line.split(\",\")\n",
    "        row += 1\n",
    "dfMap[\"year\"] = dfMap[\"year\"].astype(\"int\")   \n",
    "dfMap[\"month\"] = dfMap[\"month\"].astype(\"int\")   \n",
    "dfMap[\"day\"] = dfMap[\"day\"].astype(\"int\")   \n",
    "dfMap[\"tag\"] = dfMap[\"tag\"].astype(\"int\")   \n",
    "#print(dfMap.dtypes)\n",
    "file2tag = {f:t for f,t in zip(dfMap[\"name\"],dfMap[\"tag\"])}\n",
    "tag2file = {t:f for t,f in zip(dfMap[\"tag\"],dfMap[\"name\"])}\n",
    "\n",
    "#print(file2tag[\"11544_1996_12_13.txt\"])\n",
    "#print(tag2file[\"10\"])"
   ]
  },
  {
   "cell_type": "code",
   "execution_count": 3,
   "metadata": {
    "collapsed": false,
    "deletable": true,
    "editable": true
   },
   "outputs": [
    {
     "name": "stdout",
     "output_type": "stream",
     "text": [
      "      723371_1995_08_11.txt   723371  1995   8  11    0\n",
      "0     352510_1995_09_22.txt   352510  1995   9  22    1\n",
      "1     723926_1996_06_04.txt   723926  1996   6   4    2\n",
      "2     873364_1996_06_14.txt   873364  1996   6  14    3\n",
      "3      32017_1996_06_20.txt    32017  1996   6  20    4\n",
      "4      69598_1996_06_24.txt    69598  1996   6  24    5\n",
      "5     893670_1996_07_12.txt   893670  1996   7  12    6\n",
      "6      42872_1996_08_09.txt    42872  1996   8   9    7\n",
      "7     770975_1996_10_18.txt   770975  1996  10  18    8\n",
      "8     943358_1996_11_26.txt   943358  1996  11  26    9\n",
      "9      11544_1996_12_13.txt    11544  1996  12  13   10\n",
      "10    899689_1997_03_26.txt   899689  1997   3  26   11\n",
      "11   1000301_1997_05_13.txt  1000301  1997   5  13   12\n",
      "12     43512_1997_05_22.txt    43512  1997   5  22   13\n",
      "13    933730_1997_05_23.txt   933730  1997   5  23   14\n",
      "14    351127_1997_06_19.txt   351127  1997   6  19   15\n",
      "15    106640_1997_07_17.txt   106640  1997   7  17   16\n",
      "16    922519_1997_07_17.txt   922519  1997   7  17   17\n",
      "17    874263_1997_08_06.txt   874263  1997   8   6   18\n",
      "18    894076_1997_10_27.txt   894076  1997  10  27   19\n",
      "19    866273_1997_12_19.txt   866273  1997  12  19   20\n",
      "20    891504_1998_01_12.txt   891504  1998   1  12   21\n",
      "21    100885_1998_01_23.txt   100885  1998   1  23   22\n",
      "22    922471_1998_01_30.txt   922471  1998   1  30   23\n",
      "23    948850_1998_03_09.txt   948850  1998   3   9   24\n",
      "24    320443_1998_04_22.txt   320443  1998   4  22   25\n",
      "25   1005126_1998_04_22.txt  1005126  1998   4  22   26\n",
      "26    860730_1998_05_28.txt   860730  1998   5  28   27\n",
      "27    912192_1998_08_19.txt   912192  1998   8  19   28\n",
      "28    924174_1998_09_02.txt   924174  1998   9   2   29\n",
      "29     48948_1998_10_16.txt    48948  1998  10  16   30\n",
      "..                      ...      ...   ...  ..  ..  ...\n",
      "969  1564822_2014_12_10.txt  1564822  2014  12  10  970\n",
      "970  1357204_2014_12_18.txt  1357204  2014  12  18  971\n",
      "971  1338613_2015_01_26.txt  1338613  2015   1  26  972\n",
      "972   854560_2015_01_29.txt   854560  2015   1  29  973\n",
      "973   878927_2015_02_05.txt   878927  2015   2   5  974\n",
      "974  1511737_2015_02_05.txt  1511737  2015   2   5  975\n",
      "975    29644_2015_02_24.txt    29644  2015   2  24  976\n",
      "976    38984_2015_02_25.txt    38984  2015   2  25  977\n",
      "977   809248_2015_02_26.txt   809248  2015   2  26  978\n",
      "978  1604028_2015_03_03.txt  1604028  2015   3   3  979\n",
      "979  1451514_2015_03_23.txt  1451514  2015   3  23  980\n",
      "980  1048911_2015_04_09.txt  1048911  2015   4   9  981\n",
      "981  1508171_2015_04_09.txt  1508171  2015   4   9  982\n",
      "982  1102112_2015_04_14.txt  1102112  2015   4  14  983\n",
      "983  1450390_2015_04_15.txt  1450390  2015   4  15  984\n",
      "984     7332_2015_04_23.txt     7332  2015   4  23  985\n",
      "985   882154_2015_04_24.txt   882154  2015   4  24  986\n",
      "986   912242_2015_04_29.txt   912242  2015   4  29  987\n",
      "987    75829_2015_05_13.txt    75829  2015   5  13  988\n",
      "988  1309082_2015_05_15.txt  1309082  2015   5  15  989\n",
      "989    29644_2015_06_30.txt    29644  2015   6  30  990\n",
      "990  1301063_2015_07_02.txt  1301063  2015   7   2  991\n",
      "991  1495536_2015_07_08.txt  1495536  2015   7   8  992\n",
      "992  1278027_2015_07_13.txt  1278027  2015   7  13  993\n",
      "993  1504619_2015_08_06.txt  1504619  2015   8   6  994\n",
      "994  1636050_2015_08_11.txt  1636050  2015   8  11  995\n",
      "995  1080319_2015_09_24.txt  1080319  2015   9  24  996\n",
      "996   779152_2015_11_04.txt   779152  2015  11   4  997\n",
      "997  1173281_2015_11_12.txt  1173281  2015  11  12  998\n",
      "998  1305014_2015_11_18.txt  1305014  2015  11  18  999\n",
      "\n",
      "[999 rows x 6 columns]\n"
     ]
    }
   ],
   "source": [
    "df = pd.read_csv(\"mapping.txt\")\n",
    "print(df)"
   ]
  },
  {
   "cell_type": "code",
   "execution_count": 3,
   "metadata": {
    "collapsed": false,
    "deletable": true,
    "editable": true
   },
   "outputs": [],
   "source": [
    "year0 = \"2014\"\n",
    "yearT = \"2015\"\n"
   ]
  },
  {
   "cell_type": "code",
   "execution_count": null,
   "metadata": {
    "collapsed": false,
    "deletable": true,
    "editable": true
   },
   "outputs": [],
   "source": [
    "yearSet = list(range(int(year0), int(yearT)+1))\n",
    "\n",
    "for year in yearSet:\n",
    "    \n",
    "    dirFull = path.join(prefix,perDayFolders) + str(year)\n",
    "    print(dirFull)\n",
    "\n",
    "    for ff in listdir(dirFull):\n",
    "        print(\"Entering folder \", ff)\n",
    "        filteredList = path.join(dirFull,ff) + \"/*.txt\"\n",
    "        for f in glob.glob(filteredList):\n",
    "\n",
    "            fullname = path.join(dirFull,ff,f)\n",
    "            if os.path.isfile(fullname+\".pre\"):\n",
    "                continue\n",
    "\n",
    "            fTxt = open(fullname)\n",
    "            doc = fTxt.read()\n",
    "            words = [w.lower() for w in word_tokenize(doc) if w not in stop_words]\n",
    "            words = [w for w in words if len(w) > 2 and w.isalpha() and w in vocab_dict]\n",
    "\n",
    "            preprocName = fullname+\".pre\"\n",
    "            fPre = open(preprocName, \"w\")\n",
    "            writerDoc = csv.writer(fPre)\n",
    "            writerDoc.writerows([words])\n",
    "            fPre.close()\n"
   ]
  },
  {
   "cell_type": "code",
   "execution_count": 295,
   "metadata": {
    "collapsed": false,
    "deletable": true,
    "editable": true
   },
   "outputs": [
    {
     "data": {
      "text/plain": [
       "True"
      ]
     },
     "execution_count": 295,
     "metadata": {},
     "output_type": "execute_result"
    }
   ],
   "source": [
    "\"bae\" in vocab_dict"
   ]
  },
  {
   "cell_type": "markdown",
   "metadata": {
    "deletable": true,
    "editable": true
   },
   "source": [
    "## Task 2: doc2vec model creation\n",
    "\n",
    "We now need to read all the files belonging to a given year (later, up to that year) and build a doc2vec model to be used with the documents of that year. The doc2vect model is stored within the folder of that year and a suffix `.year` is added to each model."
   ]
  },
  {
   "cell_type": "code",
   "execution_count": 6,
   "metadata": {
    "collapsed": false,
    "deletable": true,
    "editable": true
   },
   "outputs": [],
   "source": [
    "from gensim.models import doc2vec\n",
    "import logging\n",
    "logging.basicConfig(\n",
    "        format='%(asctime)s : %(threadName)s : %(levelname)s : %(message)s',\n",
    "        level=logging.INFO\n",
    ")\n"
   ]
  },
  {
   "cell_type": "markdown",
   "metadata": {
    "deletable": true,
    "editable": true
   },
   "source": [
    "[NOT NEEDED ANYMORE] First, let us define a function used to determine whether a certain document matches the criteria used to define which documents will be employed to build the distance matrix (typically, year-month-day or any subset of that)"
   ]
  },
  {
   "cell_type": "code",
   "execution_count": 287,
   "metadata": {
    "collapsed": false,
    "deletable": true,
    "editable": true
   },
   "outputs": [],
   "source": [
    "def isSelected(name, year, month, day):\n",
    "    name= name[:-4]\n",
    "    cik, yy, mm, dd = name.split(\"_\")\n",
    "    if yy == year:\n",
    "        return True\n",
    "    else:\n",
    "        return False"
   ]
  },
  {
   "cell_type": "markdown",
   "metadata": {
    "deletable": true,
    "editable": true
   },
   "source": [
    "Now, we import all the preprocessed files relative to the period considered in the construction of the doc2vec model.\n",
    "\n",
    "**Rem.:** To build the doc2vec model, we use all the files in the period year0 to yearT. However, the distance matrix computation only includes the document in a prespecified period, e.g., a year, or a day. For this reason, we define here a new dictionary, called `corpus2tag`, which is used to identify which documents of the current corpus belong to a given time window. There are the only documents for which we want to compute the distance matrix.\n",
    "\n",
    "Two tags:\n",
    "-  the fist is the id number within the corpus\n",
    "-  the second is the absolute id number, i.e., within the entire dataset\n",
    "\n",
    "Each document embedding can be accessed via any of the two tags.\n"
   ]
  },
  {
   "cell_type": "code",
   "execution_count": 87,
   "metadata": {
    "collapsed": false,
    "deletable": true,
    "editable": true
   },
   "outputs": [
    {
     "name": "stdout",
     "output_type": "stream",
     "text": [
      "Considering year  2014\n",
      "Corpus with    40 documents.\n",
      "Considering year  2015\n",
      "Corpus with    68 documents.\n"
     ]
    }
   ],
   "source": [
    "yearT = \"2015\"\n",
    "year0 = \"2014\"\n",
    "yearSet = list(range(int(year0), int(yearT)+1))\n",
    "\n",
    "docs = []\n",
    "tagsAbs = []\n",
    "corpusID = []\n",
    "absID = []\n",
    "analyzedDocument = namedtuple('AnalyzedDocument','words tags')\n",
    "i = 0\n",
    "for year in yearSet:\n",
    "    print(\"Considering year \", year)\n",
    "    dirFull = path.join(prefix,perDayFolders) + str(year)\n",
    " \n",
    "    for ff in listdir(dirFull):\n",
    "        filteredList = path.join(dirFull,ff) + \"/*.txt.pre\"\n",
    "        for f in glob.glob(filteredList):\n",
    "            name = f.split(\"/\")[-1]\n",
    "            name = name[:-4]\n",
    "            #selected = 0\n",
    "            #print(name, file2tag[name])\n",
    "            #if isSelected(name, yearT, [], []):\n",
    "            #    corpusID.append(i)\n",
    "            #    absID.append(file2tag[name])\n",
    "            #    selected = 1\n",
    "                \n",
    "            fullname = path.join(dirFull, ff, f)\n",
    "            fToken = open(fullname, \"r\")\n",
    "            readerDoc = csv.reader(fToken)\n",
    "            doc = next(readerDoc)\n",
    "            fToken.close()\n",
    "            #tags = [i,str(file2tag[name])]\n",
    "            tags = [str(file2tag[name])] \n",
    "            #absID.append(file2tag[name])\n",
    "            docs.append(analyzedDocument(doc,tags))\n",
    "\n",
    "            i = i + 1\n",
    "    print(\"Corpus with {0:5d} documents.\".format(len(docs)))\n",
    "\n",
    "#corpus2tag = {id:t for id,t in zip(corpusID,absID)}\n",
    "#print(\"List of documents included in the considered time window::\")\n",
    "#print(corpus2tag)\n",
    "#verify\n",
    "#print(docs[64])\n",
    "#print(tag2file[corpus2tag[64]])"
   ]
  },
  {
   "cell_type": "code",
   "execution_count": 88,
   "metadata": {
    "collapsed": false,
    "deletable": true,
    "editable": true
   },
   "outputs": [
    {
     "name": "stderr",
     "output_type": "stream",
     "text": [
      "2018-04-05 09:26:17,214 : MainThread : INFO : collecting all words and their counts\n",
      "2018-04-05 09:26:17,215 : MainThread : INFO : PROGRESS: at example #0, processed 0 words (0/s), 0 word types, 0 tags\n",
      "2018-04-05 09:26:17,247 : MainThread : INFO : collected 5053 word types and 68 unique tags from a corpus of 68 examples and 65032 words\n",
      "2018-04-05 09:26:17,255 : MainThread : INFO : Loading a fresh vocabulary\n",
      "2018-04-05 09:26:17,279 : MainThread : INFO : min_count=2 retains 3292 unique words (65% of original 5053, drops 1761)\n",
      "2018-04-05 09:26:17,285 : MainThread : INFO : min_count=2 leaves 63271 word corpus (97% of original 65032, drops 1761)\n",
      "2018-04-05 09:26:17,313 : MainThread : INFO : deleting the raw counts dictionary of 5053 items\n",
      "2018-04-05 09:26:17,314 : MainThread : INFO : sample=0.001 downsamples 48 most-common words\n",
      "2018-04-05 09:26:17,316 : MainThread : INFO : downsampling leaves estimated 51991 word corpus (82.2% of prior 63271)\n",
      "2018-04-05 09:26:17,317 : MainThread : INFO : estimated required memory for 3292 words and 300 dimensions: 9642000 bytes\n",
      "2018-04-05 09:26:17,347 : MainThread : INFO : resetting layer weights\n",
      "2018-04-05 09:26:17,435 : MainThread : INFO : training model with 4 workers on 3292 vocabulary and 300 features, using sg=0 hs=0 sample=0.001 negative=10 window=100\n",
      "2018-04-05 09:26:18,517 : MainThread : INFO : PROGRESS: at 0.80% examples, 76739 words/s, in_qsize 7, out_qsize 0\n",
      "2018-04-05 09:26:19,635 : MainThread : INFO : PROGRESS: at 1.57% examples, 74316 words/s, in_qsize 7, out_qsize 0\n",
      "2018-04-05 09:26:20,683 : MainThread : INFO : PROGRESS: at 2.62% examples, 83179 words/s, in_qsize 7, out_qsize 0\n",
      "2018-04-05 09:26:21,704 : MainThread : INFO : PROGRESS: at 3.62% examples, 87736 words/s, in_qsize 7, out_qsize 0\n",
      "2018-04-05 09:26:22,713 : MainThread : INFO : PROGRESS: at 4.52% examples, 89021 words/s, in_qsize 7, out_qsize 0\n",
      "2018-04-05 09:26:23,773 : MainThread : INFO : PROGRESS: at 5.52% examples, 90584 words/s, in_qsize 7, out_qsize 0\n",
      "2018-04-05 09:26:24,852 : MainThread : INFO : PROGRESS: at 6.35% examples, 89481 words/s, in_qsize 7, out_qsize 0\n",
      "2018-04-05 09:26:25,853 : MainThread : INFO : PROGRESS: at 7.30% examples, 90306 words/s, in_qsize 7, out_qsize 0\n",
      "2018-04-05 09:26:26,870 : MainThread : INFO : PROGRESS: at 8.23% examples, 90838 words/s, in_qsize 7, out_qsize 0\n",
      "2018-04-05 09:26:27,897 : MainThread : INFO : PROGRESS: at 9.18% examples, 91274 words/s, in_qsize 7, out_qsize 0\n",
      "2018-04-05 09:26:28,976 : MainThread : INFO : PROGRESS: at 10.17% examples, 91640 words/s, in_qsize 7, out_qsize 0\n",
      "2018-04-05 09:26:30,001 : MainThread : INFO : PROGRESS: at 11.08% examples, 91868 words/s, in_qsize 7, out_qsize 0\n",
      "2018-04-05 09:26:31,016 : MainThread : INFO : PROGRESS: at 12.12% examples, 92748 words/s, in_qsize 7, out_qsize 0\n",
      "2018-04-05 09:26:32,043 : MainThread : INFO : PROGRESS: at 13.12% examples, 93362 words/s, in_qsize 7, out_qsize 0\n",
      "2018-04-05 09:26:33,058 : MainThread : INFO : PROGRESS: at 14.02% examples, 93402 words/s, in_qsize 7, out_qsize 0\n",
      "2018-04-05 09:26:34,078 : MainThread : INFO : PROGRESS: at 15.02% examples, 93946 words/s, in_qsize 7, out_qsize 0\n",
      "2018-04-05 09:26:35,107 : MainThread : INFO : PROGRESS: at 15.80% examples, 93122 words/s, in_qsize 7, out_qsize 0\n",
      "2018-04-05 09:26:36,144 : MainThread : INFO : PROGRESS: at 16.80% examples, 93525 words/s, in_qsize 7, out_qsize 0\n",
      "2018-04-05 09:26:37,182 : MainThread : INFO : PROGRESS: at 17.80% examples, 93876 words/s, in_qsize 7, out_qsize 0\n",
      "2018-04-05 09:26:38,193 : MainThread : INFO : PROGRESS: at 18.73% examples, 93973 words/s, in_qsize 7, out_qsize 0\n",
      "2018-04-05 09:26:39,228 : MainThread : INFO : PROGRESS: at 19.67% examples, 93938 words/s, in_qsize 7, out_qsize 0\n",
      "2018-04-05 09:26:40,337 : MainThread : INFO : PROGRESS: at 20.68% examples, 94002 words/s, in_qsize 7, out_qsize 0\n",
      "2018-04-05 09:26:41,346 : MainThread : INFO : PROGRESS: at 21.68% examples, 94385 words/s, in_qsize 7, out_qsize 0\n",
      "2018-04-05 09:26:42,432 : MainThread : INFO : PROGRESS: at 22.68% examples, 94445 words/s, in_qsize 7, out_qsize 0\n",
      "2018-04-05 09:26:43,480 : MainThread : INFO : PROGRESS: at 23.67% examples, 94586 words/s, in_qsize 7, out_qsize 0\n",
      "2018-04-05 09:26:44,524 : MainThread : INFO : PROGRESS: at 24.62% examples, 94553 words/s, in_qsize 7, out_qsize 0\n",
      "2018-04-05 09:26:45,710 : MainThread : INFO : PROGRESS: at 25.57% examples, 94183 words/s, in_qsize 7, out_qsize 0\n",
      "2018-04-05 09:26:46,782 : MainThread : INFO : PROGRESS: at 26.68% examples, 94638 words/s, in_qsize 7, out_qsize 0\n",
      "2018-04-05 09:26:47,810 : MainThread : INFO : PROGRESS: at 27.57% examples, 94527 words/s, in_qsize 7, out_qsize 0\n",
      "2018-04-05 09:26:48,831 : MainThread : INFO : PROGRESS: at 28.62% examples, 94845 words/s, in_qsize 7, out_qsize 0\n",
      "2018-04-05 09:26:49,844 : MainThread : INFO : PROGRESS: at 29.62% examples, 95093 words/s, in_qsize 7, out_qsize 0\n",
      "2018-04-05 09:26:50,902 : MainThread : INFO : PROGRESS: at 30.62% examples, 95198 words/s, in_qsize 7, out_qsize 0\n",
      "2018-04-05 09:26:51,961 : MainThread : INFO : PROGRESS: at 31.62% examples, 95294 words/s, in_qsize 7, out_qsize 0\n",
      "2018-04-05 09:26:53,023 : MainThread : INFO : PROGRESS: at 32.62% examples, 95374 words/s, in_qsize 7, out_qsize 0\n",
      "2018-04-05 09:26:54,048 : MainThread : INFO : PROGRESS: at 33.62% examples, 95551 words/s, in_qsize 7, out_qsize 0\n",
      "2018-04-05 09:26:55,066 : MainThread : INFO : PROGRESS: at 34.40% examples, 95277 words/s, in_qsize 8, out_qsize 0\n",
      "2018-04-05 09:26:56,113 : MainThread : INFO : PROGRESS: at 35.35% examples, 95230 words/s, in_qsize 7, out_qsize 0\n",
      "2018-04-05 09:26:57,192 : MainThread : INFO : PROGRESS: at 36.35% examples, 95265 words/s, in_qsize 7, out_qsize 0\n",
      "2018-04-05 09:26:58,236 : MainThread : INFO : PROGRESS: at 37.35% examples, 95381 words/s, in_qsize 7, out_qsize 0\n",
      "2018-04-05 09:26:59,332 : MainThread : INFO : PROGRESS: at 38.35% examples, 95337 words/s, in_qsize 7, out_qsize 0\n",
      "2018-04-05 09:27:00,350 : MainThread : INFO : PROGRESS: at 39.35% examples, 95536 words/s, in_qsize 7, out_qsize 0\n",
      "2018-04-05 09:27:01,369 : MainThread : INFO : PROGRESS: at 40.35% examples, 95690 words/s, in_qsize 7, out_qsize 0\n",
      "2018-04-05 09:27:02,478 : MainThread : INFO : PROGRESS: at 41.35% examples, 95644 words/s, in_qsize 7, out_qsize 0\n",
      "2018-04-05 09:27:03,528 : MainThread : INFO : PROGRESS: at 42.35% examples, 95721 words/s, in_qsize 7, out_qsize 0\n",
      "2018-04-05 09:27:04,575 : MainThread : INFO : PROGRESS: at 43.35% examples, 95804 words/s, in_qsize 8, out_qsize 0\n",
      "2018-04-05 09:27:05,609 : MainThread : INFO : PROGRESS: at 44.23% examples, 95601 words/s, in_qsize 7, out_qsize 0\n",
      "2018-04-05 09:27:06,642 : MainThread : INFO : PROGRESS: at 45.23% examples, 95707 words/s, in_qsize 7, out_qsize 0\n",
      "2018-04-05 09:27:07,672 : MainThread : INFO : PROGRESS: at 46.23% examples, 95818 words/s, in_qsize 7, out_qsize 0\n",
      "2018-04-05 09:27:08,692 : MainThread : INFO : PROGRESS: at 47.17% examples, 95794 words/s, in_qsize 7, out_qsize 0\n",
      "2018-04-05 09:27:09,749 : MainThread : INFO : PROGRESS: at 48.17% examples, 95848 words/s, in_qsize 7, out_qsize 0\n",
      "2018-04-05 09:27:10,761 : MainThread : INFO : PROGRESS: at 49.18% examples, 96007 words/s, in_qsize 7, out_qsize 0\n",
      "2018-04-05 09:27:11,761 : MainThread : INFO : PROGRESS: at 50.12% examples, 96015 words/s, in_qsize 7, out_qsize 0\n",
      "2018-04-05 09:27:12,795 : MainThread : INFO : PROGRESS: at 51.12% examples, 96106 words/s, in_qsize 7, out_qsize 0\n",
      "2018-04-05 09:27:13,873 : MainThread : INFO : PROGRESS: at 52.12% examples, 96117 words/s, in_qsize 7, out_qsize 0\n",
      "2018-04-05 09:27:14,969 : MainThread : INFO : PROGRESS: at 53.02% examples, 95942 words/s, in_qsize 7, out_qsize 0\n",
      "2018-04-05 09:27:15,975 : MainThread : INFO : PROGRESS: at 53.90% examples, 95930 words/s, in_qsize 7, out_qsize 0\n",
      "2018-04-05 09:27:17,012 : MainThread : INFO : PROGRESS: at 54.90% examples, 96009 words/s, in_qsize 7, out_qsize 0\n",
      "2018-04-05 09:27:18,035 : MainThread : INFO : PROGRESS: at 55.90% examples, 96103 words/s, in_qsize 7, out_qsize 0\n",
      "2018-04-05 09:27:19,053 : MainThread : INFO : PROGRESS: at 56.85% examples, 96107 words/s, in_qsize 7, out_qsize 0\n",
      "2018-04-05 09:27:20,069 : MainThread : INFO : PROGRESS: at 57.85% examples, 96209 words/s, in_qsize 7, out_qsize 0\n",
      "2018-04-05 09:27:21,135 : MainThread : INFO : PROGRESS: at 58.85% examples, 96233 words/s, in_qsize 7, out_qsize 0\n",
      "2018-04-05 09:27:22,170 : MainThread : INFO : PROGRESS: at 59.85% examples, 96305 words/s, in_qsize 7, out_qsize 0\n",
      "2018-04-05 09:27:23,238 : MainThread : INFO : PROGRESS: at 60.85% examples, 96324 words/s, in_qsize 7, out_qsize 0\n",
      "2018-04-05 09:27:24,280 : MainThread : INFO : PROGRESS: at 61.85% examples, 96381 words/s, in_qsize 8, out_qsize 0\n",
      "2018-04-05 09:27:25,320 : MainThread : INFO : PROGRESS: at 62.67% examples, 96106 words/s, in_qsize 7, out_qsize 0\n",
      "2018-04-05 09:27:26,334 : MainThread : INFO : PROGRESS: at 63.68% examples, 96222 words/s, in_qsize 7, out_qsize 0\n",
      "2018-04-05 09:27:27,336 : MainThread : INFO : PROGRESS: at 64.62% examples, 96223 words/s, in_qsize 7, out_qsize 0\n",
      "2018-04-05 09:27:28,450 : MainThread : INFO : PROGRESS: at 65.67% examples, 96266 words/s, in_qsize 7, out_qsize 0\n",
      "2018-04-05 09:27:29,464 : MainThread : INFO : PROGRESS: at 66.62% examples, 96269 words/s, in_qsize 7, out_qsize 0\n",
      "2018-04-05 09:27:30,562 : MainThread : INFO : PROGRESS: at 67.67% examples, 96332 words/s, in_qsize 7, out_qsize 0\n",
      "2018-04-05 09:27:31,591 : MainThread : INFO : PROGRESS: at 68.68% examples, 96421 words/s, in_qsize 7, out_qsize 0\n",
      "2018-04-05 09:27:32,638 : MainThread : INFO : PROGRESS: at 69.67% examples, 96444 words/s, in_qsize 7, out_qsize 0\n",
      "2018-04-05 09:27:33,705 : MainThread : INFO : PROGRESS: at 70.67% examples, 96461 words/s, in_qsize 7, out_qsize 0\n",
      "2018-04-05 09:27:34,760 : MainThread : INFO : PROGRESS: at 71.62% examples, 96410 words/s, in_qsize 7, out_qsize 0\n",
      "2018-04-05 09:27:35,761 : MainThread : INFO : PROGRESS: at 72.40% examples, 96288 words/s, in_qsize 7, out_qsize 0\n",
      "2018-04-05 09:27:36,780 : MainThread : INFO : PROGRESS: at 73.47% examples, 96391 words/s, in_qsize 7, out_qsize 0\n",
      "2018-04-05 09:27:37,850 : MainThread : INFO : PROGRESS: at 74.40% examples, 96377 words/s, in_qsize 7, out_qsize 0\n",
      "2018-04-05 09:27:38,919 : MainThread : INFO : PROGRESS: at 75.52% examples, 96494 words/s, in_qsize 7, out_qsize 0\n",
      "2018-04-05 09:27:39,962 : MainThread : INFO : PROGRESS: at 76.40% examples, 96435 words/s, in_qsize 7, out_qsize 0\n",
      "2018-04-05 09:27:40,981 : MainThread : INFO : PROGRESS: at 77.40% examples, 96506 words/s, in_qsize 7, out_qsize 0\n",
      "2018-04-05 09:27:42,033 : MainThread : INFO : PROGRESS: at 78.40% examples, 96534 words/s, in_qsize 7, out_qsize 0\n",
      "2018-04-05 09:27:43,066 : MainThread : INFO : PROGRESS: at 79.35% examples, 96514 words/s, in_qsize 7, out_qsize 0\n",
      "2018-04-05 09:27:44,124 : MainThread : INFO : PROGRESS: at 80.35% examples, 96538 words/s, in_qsize 7, out_qsize 0\n",
      "2018-04-05 09:27:45,129 : MainThread : INFO : PROGRESS: at 81.30% examples, 96533 words/s, in_qsize 7, out_qsize 0\n",
      "2018-04-05 09:27:46,240 : MainThread : INFO : PROGRESS: at 82.30% examples, 96497 words/s, in_qsize 7, out_qsize 0\n",
      "2018-04-05 09:27:47,295 : MainThread : INFO : PROGRESS: at 83.30% examples, 96522 words/s, in_qsize 7, out_qsize 0\n",
      "2018-04-05 09:27:48,325 : MainThread : INFO : PROGRESS: at 84.30% examples, 96574 words/s, in_qsize 7, out_qsize 0\n",
      "2018-04-05 09:27:49,364 : MainThread : INFO : PROGRESS: at 85.30% examples, 96616 words/s, in_qsize 7, out_qsize 0\n",
      "2018-04-05 09:27:50,384 : MainThread : INFO : PROGRESS: at 86.23% examples, 96600 words/s, in_qsize 7, out_qsize 0\n",
      "2018-04-05 09:27:51,420 : MainThread : INFO : PROGRESS: at 87.30% examples, 96720 words/s, in_qsize 7, out_qsize 0\n",
      "2018-04-05 09:27:52,478 : MainThread : INFO : PROGRESS: at 88.30% examples, 96739 words/s, in_qsize 7, out_qsize 0\n",
      "2018-04-05 09:27:53,478 : MainThread : INFO : PROGRESS: at 89.30% examples, 96816 words/s, in_qsize 7, out_qsize 0\n",
      "2018-04-05 09:27:54,503 : MainThread : INFO : PROGRESS: at 90.23% examples, 96791 words/s, in_qsize 8, out_qsize 0\n",
      "2018-04-05 09:27:55,530 : MainThread : INFO : PROGRESS: at 91.12% examples, 96696 words/s, in_qsize 7, out_qsize 0\n",
      "2018-04-05 09:27:56,620 : MainThread : INFO : PROGRESS: at 92.12% examples, 96682 words/s, in_qsize 7, out_qsize 0\n",
      "2018-04-05 09:27:57,621 : MainThread : INFO : PROGRESS: at 93.12% examples, 96753 words/s, in_qsize 7, out_qsize 0\n",
      "2018-04-05 09:27:58,644 : MainThread : INFO : PROGRESS: at 94.12% examples, 96803 words/s, in_qsize 7, out_qsize 0\n",
      "2018-04-05 09:27:59,685 : MainThread : INFO : PROGRESS: at 95.12% examples, 96836 words/s, in_qsize 7, out_qsize 0\n",
      "2018-04-05 09:28:00,793 : MainThread : INFO : PROGRESS: at 96.17% examples, 96864 words/s, in_qsize 7, out_qsize 0\n",
      "2018-04-05 09:28:01,820 : MainThread : INFO : PROGRESS: at 97.17% examples, 96909 words/s, in_qsize 7, out_qsize 0\n",
      "2018-04-05 09:28:02,821 : MainThread : INFO : PROGRESS: at 98.18% examples, 96989 words/s, in_qsize 7, out_qsize 0\n",
      "2018-04-05 09:28:03,875 : MainThread : INFO : PROGRESS: at 99.17% examples, 96993 words/s, in_qsize 7, out_qsize 0\n",
      "2018-04-05 09:28:04,668 : MainThread : INFO : worker thread finished; awaiting finish of 3 more threads\n",
      "2018-04-05 09:28:04,670 : MainThread : INFO : worker thread finished; awaiting finish of 2 more threads\n",
      "2018-04-05 09:28:04,710 : MainThread : INFO : worker thread finished; awaiting finish of 1 more threads\n",
      "2018-04-05 09:28:04,727 : MainThread : INFO : worker thread finished; awaiting finish of 0 more threads\n",
      "2018-04-05 09:28:04,728 : MainThread : INFO : training on 13006400 raw words (10412046 effective words) took 107.3s, 97045 effective words/s\n",
      "2018-04-05 09:28:04,732 : MainThread : INFO : precomputing L2-norms of word weight vectors\n",
      "2018-04-05 09:28:04,801 : MainThread : INFO : saving Doc2Vec object under /home/marco/gdrive/research/nlp/data/v4/2015/doc2vec.model.2015, separately None\n",
      "2018-04-05 09:28:04,805 : MainThread : INFO : not storing attribute syn0norm\n",
      "2018-04-05 09:28:04,807 : MainThread : INFO : not storing attribute cum_table\n",
      "2018-04-05 09:28:04,930 : MainThread : INFO : saved /home/marco/gdrive/research/nlp/data/v4/2015/doc2vec.model.2015\n"
     ]
    },
    {
     "name": "stdout",
     "output_type": "stream",
     "text": [
      "Saving model  /home/marco/gdrive/research/nlp/data/v4/2015/doc2vec.model.2015\n"
     ]
    }
   ],
   "source": [
    "# creating doc2vec model for the current year\n",
    "model = doc2vec.Doc2Vec(size=300, window=100, min_count=2, iter=200, workers=4, dm=1, negative=10)\n",
    "model.build_vocab(docs)\n",
    "model.train(docs, total_examples=model.corpus_count, epochs=model.iter)\n",
    "model.init_sims(replace=True)\n",
    "\n",
    "# save model on disk\n",
    "nameModel = \"doc2vec.model.\" + str(year)\n",
    "fullname = path.join(dirFull,nameModel)\n",
    "print(\"Saving model \", fullname)\n",
    "model.save(fullname)\n",
    "model.delete_temporary_training_data(keep_doctags_vectors=True, keep_inference=True)\n",
    "\n",
    "# save mapping id-->tag on disk\n",
    "#nameMap = \"mapping.doc2vec.\" + str(year)\n",
    "#fullname = path.join(dirFull,nameMap)\n",
    "#print(\"Saving mapping \", fullname)\n",
    "#f = open(fullname, \"w\")\n",
    "#writer = csv.writer(f)\n",
    "#for i in range(len(absID)):\n",
    "#    writer.writerow([i,absID[i]])\n",
    "#f.close()\n"
   ]
  },
  {
   "cell_type": "code",
   "execution_count": 89,
   "metadata": {
    "collapsed": false,
    "deletable": true,
    "editable": true
   },
   "outputs": [
    {
     "name": "stdout",
     "output_type": "stream",
     "text": [
      "68\n"
     ]
    }
   ],
   "source": [
    "print(len(model.docvecs))"
   ]
  },
  {
   "cell_type": "markdown",
   "metadata": {
    "deletable": true,
    "editable": true
   },
   "source": [
    "## Task 3: Using doc2vec model\n",
    "\n",
    "Here, we upload a doc2vec model for a specific year and use it to build a distance matrix. In addition, to separate model creation from model use, we need to find out which documents belong to the corpus.\n",
    "\n",
    "**Rem.:** There are two ways of using a doc2vec model: i. Getting the embedding of a document stored within the doc2vec model. Obviously, this requires that the document was actually used in the doc2vec creation phase. We also need to know the tag associated to that document. We can then refer to the embedding using the tag; (ii) Inferring an embedding vector and treating the document as a new, unseen one. In this case, whether the document was used or not durign the doc2vec model creation phase does not matter, since the model will provide an embedding for a document, treating it as unseen. \n",
    "\n",
    "While approach i. is deterministic (it always returns the same embedding for a document), approach ii. is stochastic (the embedding vector is different every time we ask to compute the inferred vector."
   ]
  },
  {
   "cell_type": "code",
   "execution_count": 90,
   "metadata": {
    "collapsed": false,
    "deletable": true,
    "editable": true
   },
   "outputs": [
    {
     "name": "stderr",
     "output_type": "stream",
     "text": [
      "2018-04-05 09:34:02,308 : MainThread : INFO : loading Doc2Vec object from /home/marco/gdrive/research/nlp/data/v4/2015/doc2vec.model.2015\n",
      "2018-04-05 09:34:02,393 : MainThread : INFO : loading wv recursively from /home/marco/gdrive/research/nlp/data/v4/2015/doc2vec.model.2015.wv.* with mmap=None\n",
      "2018-04-05 09:34:02,396 : MainThread : INFO : setting ignored attribute syn0norm to None\n",
      "2018-04-05 09:34:02,398 : MainThread : INFO : loading docvecs recursively from /home/marco/gdrive/research/nlp/data/v4/2015/doc2vec.model.2015.docvecs.* with mmap=None\n",
      "2018-04-05 09:34:02,401 : MainThread : INFO : setting ignored attribute cum_table to None\n",
      "2018-04-05 09:34:02,402 : MainThread : INFO : loaded /home/marco/gdrive/research/nlp/data/v4/2015/doc2vec.model.2015\n"
     ]
    },
    {
     "name": "stdout",
     "output_type": "stream",
     "text": [
      "Loading model  /home/marco/gdrive/research/nlp/data/v4/2015/doc2vec.model.2015\n",
      "The model contains 68 vectors.\n"
     ]
    }
   ],
   "source": [
    "# define the year and read corresponding doc2vec model\n",
    "year = \"2015\"\n",
    "dirFull = path.join(prefix,perDayFolders) + year\n",
    "fullname = dirFull + \"/doc2vec.model.\" + year\n",
    "print(\"Loading model \", fullname)\n",
    "modelDoc2Vec = doc2vec.Doc2Vec.load(fullname)\n",
    "print(\"The model contains {0} vectors.\".format(len(modelDoc2Vec.docvecs)))\n"
   ]
  },
  {
   "cell_type": "code",
   "execution_count": 91,
   "metadata": {
    "collapsed": false,
    "deletable": true,
    "editable": true
   },
   "outputs": [
    {
     "name": "stderr",
     "output_type": "stream",
     "text": [
      "2018-04-05 09:34:06,008 : MainThread : INFO : precomputing L2-norms of word weight vectors\n"
     ]
    },
    {
     "data": {
      "text/plain": [
       "[('morning', 0.8003968000411987),\n",
       " ('session', 0.5685198307037354),\n",
       " ('comes', 0.5152820944786072),\n",
       " ('distributing', 0.48078060150146484),\n",
       " ('essential', 0.44736558198928833),\n",
       " ('happen', 0.44607722759246826),\n",
       " ('instructions', 0.4353036880493164),\n",
       " ('question', 0.3995822072029114),\n",
       " ('pharmaceuticals', 0.3972008526325226),\n",
       " ('pinnacle', 0.3752984404563904)]"
      ]
     },
     "execution_count": 91,
     "metadata": {},
     "output_type": "execute_result"
    }
   ],
   "source": [
    "# just a little test\n",
    "modelDoc2Vec.most_similar(\"good\")"
   ]
  },
  {
   "cell_type": "code",
   "execution_count": null,
   "metadata": {
    "collapsed": false,
    "deletable": true,
    "editable": true
   },
   "outputs": [],
   "source": [
    "modelDoc2Vec.wv.vocab # to get the vocabulary"
   ]
  },
  {
   "cell_type": "markdown",
   "metadata": {
    "deletable": true,
    "editable": true
   },
   "source": [
    "## Task 3: Distance Matrix Computation\n",
    "\n",
    "We can use two approaches to similarity computation:\n",
    "- Using the actual doc2vec embedding vector\n",
    "- Using an inferred vector\n"
   ]
  },
  {
   "cell_type": "markdown",
   "metadata": {
    "deletable": true,
    "editable": true
   },
   "source": [
    "### Using the actual doc2vec embedding vector\n",
    "\n",
    "Each document in the corpus is now associated to a vector, contained in the doc2vec model. We can simply get the vector by using `modelDoc2Vec[doc]` to get the embedding of the document. However, the problem here is that, if in the model creation phase we eliminated, e.g., all the words that appear only once (`min_count=2`), then it might happen that we cannot get back the actual vector associated to `doc` (an error message notifies that a given word is not in the vocabulary.) We thus need to screen the document and eliminate all the words that are not in the vocabulary. \n",
    "\n",
    "Alternatively, and much simpler, we can get the tag of each document in the current corpus, and directly obtain the embedding of that document using `modelDoc2Vec.docvecs[tag]`. Since here we are accessing a pre-computed embedding, without using the actual document, we do not have the problem described above. Note that, in this case, we do not even need to load the document in memory, since with the tag it will suffice.\n",
    "\n",
    "Let us first get a list of documents tag to be used to compute the distance matrix. Which documents should be included here depends on the strategy used. For now, assume we want to use all the documents of a given year. \n",
    "\n",
    "__Note:__ In this case, we do not even need to load the corpus. We just need to create a list of tags corresponding to the documents we want to use in the distance matrix computation."
   ]
  },
  {
   "cell_type": "code",
   "execution_count": 92,
   "metadata": {
    "collapsed": false,
    "deletable": true,
    "editable": true
   },
   "outputs": [
    {
     "name": "stdout",
     "output_type": "stream",
     "text": [
      "[972, 973, 974, 975, 976, 977, 978, 979, 980, 981, 982, 983, 984, 985, 986, 987, 988, 989, 990, 991, 992, 993, 994, 995, 996, 997, 998, 999]\n"
     ]
    }
   ],
   "source": [
    "# get absolute tag for all documents belonging to a given year\n",
    "year = \"2015\"\n",
    "tagList = []\n",
    "nRows = len(dfMap)\n",
    "for row in range(nRows):\n",
    "    #print(dfMap.iloc[row])\n",
    "    if dfMap.iloc[row][\"year\"] == int(year):\n",
    "        #print(\"file \", dfMap.iloc[row][\"name\"], \" selected\")\n",
    "        tagList.append(dfMap.iloc[row][\"tag\"])\n",
    "print(tagList)"
   ]
  },
  {
   "cell_type": "code",
   "execution_count": null,
   "metadata": {
    "collapsed": false,
    "deletable": true,
    "editable": true
   },
   "outputs": [],
   "source": [
    "print(sorted(corpus2tag.values()))\n",
    "print(sorted(corpus2tag.keys()))"
   ]
  },
  {
   "cell_type": "markdown",
   "metadata": {
    "deletable": true,
    "editable": true
   },
   "source": [
    "Now, compute the pairwise distances among all the documents in the `tagList`. The distance matrix is stored in long format in a disk file. Note that we store only the upper diagonal matrix (since distances are symmetric here). The format is:\n",
    "- first row: number of documents in this corpus, e.g., $n$. Thus, the number of pairwise distances in the file is $n(n+1)/2$.)\n",
    "- second row: list of tagged documents included in this distance matrix ($n$ elements)\n",
    "- from row 3 to $n(n+1)/2 + 3$, the following table:\n",
    "\n",
    "|from|to|distance|\n",
    "|----|----|-----|\n",
    "|0|0|0|\n",
    "|0|1|0.23|\n",
    "|..|..|..|\n"
   ]
  },
  {
   "cell_type": "code",
   "execution_count": 128,
   "metadata": {
    "collapsed": false,
    "deletable": true,
    "editable": true
   },
   "outputs": [
    {
     "name": "stdout",
     "output_type": "stream",
     "text": [
      "Distance Matrix saved ::  /home/marco/gdrive/research/nlp/data/v4/2015/doc2vecDistMatrix.txt.2015\n"
     ]
    }
   ],
   "source": [
    "nDocs = len(tagList)\n",
    "nameMatrix = \"doc2vecDistMatrix.txt.\" + str(year)\n",
    "fullname = path.join(dirFull,nameMatrix)\n",
    "\n",
    "f = open(fullname, \"w\")\n",
    "writer = csv.writer(f)\n",
    "writer.writerow([nDocs])\n",
    "writer.writerow(tagList)\n",
    "vals = [ [0.0 for i in range(nDocs)] for j in range(nDocs)]\n",
    "    \n",
    "for i in range(nDocs):\n",
    "    tag_i = tagList[i]\n",
    "        \n",
    "    for j in range(i,nDocs):\n",
    "        tag_j = tagList[j]\n",
    "        val = round(1.0-modelDoc2Vec.docvecs.similarity(str(tag_i),str(tag_j)), 4)\n",
    "        writer.writerow([tag_i, tag_j, val])\n",
    "\n",
    "f.close()\n",
    "print(\"Distance Matrix saved :: \", fullname)  "
   ]
  },
  {
   "cell_type": "markdown",
   "metadata": {
    "deletable": true,
    "editable": true
   },
   "source": [
    "### Using an inferred vector\n",
    "\n",
    "[__Note:__ To use this part, we need to upload the corpus itself. It is not enough to have the tags associated to the documents of the corpus]. With _gensim_, it is possible to infer a vector associated to an (unseen) document. In this case, whether or not all the words of a document are in the vocabulary no longer matters. One could then create an inferred vector for each document in the corpus and find the closest document in the corpus w.r.t. the inferred vector. If the doc2vec model works, the closest document should always be itself. To test the quality of the doc2vec model used, we can then count how many time the closest document to each inferred vector is actually the original document itself.\n",
    "\n",
    "Let us run a test to determine whether the doc2vec model is accurate. We compute the inferred vector for each document in the corpus. Next, we find the most similar document to each inferred vector. If the doc2vec model works, each document should return **itself** as most similar. Finally, we count how many times this happens (ideally, all the times).\n",
    "\n",
    "At this stage, the accuracy of the answer seems to depend on the number of iterations used to generate the inferred vector.\n",
    " "
   ]
  },
  {
   "cell_type": "code",
   "execution_count": 95,
   "metadata": {
    "collapsed": false,
    "deletable": true,
    "editable": true
   },
   "outputs": [
    {
     "name": "stdout",
     "output_type": "stream",
     "text": [
      "Considering year  2015\n",
      "Corpus with    28 documents.\n",
      "List of Tags ::  [982, 981, 986, 985, 996, 972, 992, 987, 976, 998, 999, 980, 997, 991, 990, 984, 983, 995, 977, 989, 973, 988, 993, 979, 974, 975, 994, 978]\n"
     ]
    }
   ],
   "source": [
    "corpus = []\n",
    "listOfTags = []\n",
    "print(\"Considering year \", year)\n",
    "dirFull = path.join(prefix,perDayFolders) + str(year)\n",
    "\n",
    "for ff in listdir(dirFull):\n",
    "    filteredList = path.join(dirFull,ff) + \"/*.txt.pre\"\n",
    "    for f in glob.glob(filteredList):\n",
    "        name = f.split(\"/\")[-1]\n",
    "        name = name[:-4]\n",
    "        listOfTags.append(file2tag[name])\n",
    "\n",
    "        fullname = path.join(dirFull, ff, f)\n",
    "        fToken = open(fullname, \"r\")\n",
    "        readerDoc = csv.reader(fToken)\n",
    "        doc = next(readerDoc)\n",
    "        fToken.close()\n",
    "        corpus.append(doc)\n",
    "\n",
    "print(\"Corpus with {0:5d} documents.\".format(len(corpus)))\n",
    "print(\"List of Tags :: \", listOfTags)\n"
   ]
  },
  {
   "cell_type": "code",
   "execution_count": null,
   "metadata": {
    "collapsed": false,
    "deletable": true,
    "editable": true
   },
   "outputs": [],
   "source": [
    "ranks = []\n",
    "for id in range(len(corpus)):\n",
    "\n",
    "    inferred_vector = modelDoc2Vec.infer_vector(corpus[id], steps=200)\n",
    "    tag = listOfTags[id] # this is int\n",
    "    #print(inferred_vector)\n",
    "    sims = modelDoc2Vec.docvecs.most_similar([inferred_vector], topn=len(modelDoc2Vec.docvecs))\n",
    "    rank = [i for i,j in sims].index(str(tag))\n",
    "    print(\"Vector {0:3d} : Rank = {1:3d} with score {2:5.3f}\".format(id,rank,sims[rank][1]))\n",
    "    ranks.append(rank)\n",
    "    \n",
    "collections.Counter(ranks) "
   ]
  },
  {
   "cell_type": "markdown",
   "metadata": {
    "deletable": true,
    "editable": true
   },
   "source": [
    "## Task 4: Clustering\n",
    "\n",
    "We now use the distance matrix saved on disk within each folder to carry out a specific type of analysis. For now, we use hierarchical clustering. The goal, though, is to see how clusters change over time and other type of analysis to study correlations among PR."
   ]
  },
  {
   "cell_type": "code",
   "execution_count": 123,
   "metadata": {
    "collapsed": true,
    "deletable": true,
    "editable": true
   },
   "outputs": [],
   "source": [
    "import scipy.spatial.distance as ssd\n",
    "from scipy.cluster.hierarchy import dendrogram, linkage, fcluster, cophenet\n"
   ]
  },
  {
   "cell_type": "code",
   "execution_count": 130,
   "metadata": {
    "collapsed": false,
    "deletable": true,
    "editable": true
   },
   "outputs": [
    {
     "name": "stdout",
     "output_type": "stream",
     "text": [
      "[972, 973, 974, 975, 976, 977, 978, 979, 980, 981, 982, 983, 984, 985, 986, 987, 988, 989, 990, 991, 992, 993, 994, 995, 996, 997, 998, 999]\n"
     ]
    }
   ],
   "source": [
    "### read distance matrix\n",
    "year = \"2015\"\n",
    "nameMatrix = \"doc2vecDistMatrix.txt.\" + str(year)\n",
    "fullname = path.join(dirFull,nameMatrix)\n",
    "\n",
    "f = open(fullname, \"r\")\n",
    "reader = csv.reader(f)\n",
    "nDocs = int(next(reader)[0])\n",
    "auxList = next(reader)\n",
    "tagList = [int(auxList[i]) for i in range(len(auxList))]\n",
    "\n",
    "distMatrix = [ [0.0 for i in range(nDocs)] for j in range(nDocs)]\n",
    "i = -1\n",
    "j = 0\n",
    "for row in reader:\n",
    "    if j % nDocs == 0:\n",
    "        i += 1\n",
    "        j = i\n",
    "    ix = int(row[0])\n",
    "    jx = int(row[1])\n",
    "    d = float(row[2])\n",
    "\n",
    "    distMatrix[i][j] = d\n",
    "    distMatrix[j][i] = d\n",
    "    \n",
    "    #print(\"distance from {0:5d} ({1:5d}) to {2:5d} ({3:5d}) is {4:7.4f}\".format(ix,i, jx, j,d))\n",
    "    j += 1\n",
    "\n",
    "f.close()"
   ]
  },
  {
   "cell_type": "code",
   "execution_count": 125,
   "metadata": {
    "collapsed": false,
    "deletable": true,
    "editable": true
   },
   "outputs": [
    {
     "name": "stdout",
     "output_type": "stream",
     "text": [
      "[ ward      ] Cophenetic =  0.76\n",
      "[ median    ] Cophenetic =  0.82\n",
      "[ average   ] Cophenetic =  0.86\n",
      "[ single    ] Cophenetic =  0.84\n",
      "[ complete  ] Cophenetic =  0.70\n"
     ]
    }
   ],
   "source": [
    "distArray = ssd.squareform(np.asmatrix(distMatrix), checks=False)\n",
    "methods = [\"ward\", \"median\", \"average\", \"single\", \"complete\"]\n",
    "bestVal = 0.0\n",
    "bestMethod = \" \"\n",
    "for mm in methods:\n",
    "    Z = linkage(distArray, method=mm, optimal_ordering=True)\n",
    "    c, cophDist = cophenet(Z, distArray)\n",
    "    print(\"[ {0:10s}] Cophenetic = {1:5.2f}\".format(mm,c))\n",
    "    if c > bestVal:\n",
    "        bestVal = c\n",
    "        bestMethod = mm\n",
    "        \n",
    "Z = linkage(distArray, method=bestMethod, optimal_ordering=True)\n"
   ]
  },
  {
   "cell_type": "code",
   "execution_count": 126,
   "metadata": {
    "collapsed": false,
    "deletable": true,
    "editable": true
   },
   "outputs": [
    {
     "data": {
      "image/png": "[encoded data removed]",
      "text/plain": [
       "<matplotlib.figure.Figure at 0x7f478c507ac8>"
      ]
     },
     "metadata": {},
     "output_type": "display_data"
    }
   ],
   "source": [
    "plt.figure(figsize=(25,10))\n",
    "plt.title(\"Hierarchical Clustering Press Releases\")\n",
    "pp= dendrogram(\n",
    "    Z,\n",
    "    leaf_rotation=90,\n",
    "    leaf_font_size=8.,\n",
    "    show_leaf_counts=True,\n",
    "    get_leaves=True,\n",
    "#    truncate_mode=\"level\",\n",
    "#    p = 5\n",
    ")\n",
    "plt.show()\n",
    "\n"
   ]
  },
  {
   "cell_type": "markdown",
   "metadata": {
    "deletable": true,
    "editable": true
   },
   "source": [
    "An alternative approach is based on the use of a k-mean clustering algorithm from the nltk library. The algorithm uses the vectors associated to each document (rather than the distance matrix.) Therefore, we need to get the embeddings of the documents in the current corpus."
   ]
  },
  {
   "cell_type": "code",
   "execution_count": 127,
   "metadata": {
    "collapsed": true,
    "deletable": true,
    "editable": true
   },
   "outputs": [],
   "source": [
    "import nltk\n",
    "from nltk.cluster import KMeansClusterer"
   ]
  },
  {
   "cell_type": "code",
   "execution_count": null,
   "metadata": {
    "collapsed": false,
    "deletable": true,
    "editable": true
   },
   "outputs": [],
   "source": [
    "# read doc2vec model\n",
    "year = \"2015\"\n",
    "dirFull = path.join(prefix,perDayFolders) + year\n",
    "fullname = dirFull + \"/doc2vec.model.\" + year\n",
    "print(\"Loading model \", fullname)\n",
    "modelDoc2Vec = doc2vec.Doc2Vec.load(fullname)\n",
    "print(\"The model contains {0} vectors.\".format(len(modelDoc2Vec.docvecs)))\n",
    "\n",
    "nameMatrix = \"doc2vecDistMatrix.txt.\" + str(year)\n",
    "fullname = path.join(dirFull,nameMatrix)\n",
    "# get taglist\n",
    "f = open(fullname, \"r\")\n",
    "reader = csv.reader(f)\n",
    "nDocs = int(next(reader)[0])\n",
    "auxList = next(reader)\n",
    "tagList = [int(auxList[i]) for i in range(len(auxList))]\n",
    "f.close()\n",
    "print(\"Taglist is = \", tagList)"
   ]
  },
  {
   "cell_type": "code",
   "execution_count": 137,
   "metadata": {
    "collapsed": false,
    "deletable": true,
    "editable": true
   },
   "outputs": [
    {
     "name": "stdout",
     "output_type": "stream",
     "text": [
      "Clusters Labels =  [3, 2, 0, 2, 0, 0, 1, 2, 3, 2, 3, 1, 2, 2, 0, 2, 2, 2, 3, 2, 1, 3, 3, 1, 3, 3, 2, 1]\n"
     ]
    }
   ],
   "source": [
    "num_clusters = 4\n",
    "vectors = [modelDoc2Vec.docvecs[str(i)] for i in tagList]\n",
    "kclusterer = KMeansClusterer(num_clusters,\n",
    "                            distance =nltk.cluster.util.cosine_distance,\n",
    "                            repeats=500)\n",
    "labels = kclusterer.cluster(vectors, assign_clusters=True)\n",
    "print(\"Clusters Labels = \", labels)"
   ]
  },
  {
   "cell_type": "markdown",
   "metadata": {},
   "source": [
    "## Statistical Analysis of Distance Matrix"
   ]
  },
  {
   "cell_type": "code",
   "execution_count": 15,
   "metadata": {
    "collapsed": false
   },
   "outputs": [],
   "source": [
    "def readDistMatrix(year):\n",
    "\n",
    "    nameMatrix = \"doc2vecDistMatrix.txt.\" + str(year)\n",
    "\n",
    "    fullname = path.join(prefix,perDayFolders,year,nameMatrix)\n",
    "    print(\"Fullname = \", fullname)\n",
    "    f = open(fullname, \"r\")\n",
    "    reader = csv.reader(f)\n",
    "    nDocs = int(next(reader)[0])\n",
    "    print(\"NDocs = \", nDocs)\n",
    "    distMatrix = [ [0.0 for i in range(nDocs)] for j in range(nDocs)]\n",
    "    auxList = next(reader)\n",
    "    tagList = [int(auxList[i]) for i in range(len(auxList))]\n",
    "    i = -1\n",
    "    j =  0\n",
    "    for row in reader:\n",
    "        if j % nDocs == 0:\n",
    "            i += 1\n",
    "            j  = i\n",
    "        ix = int(row[0])\n",
    "        jx = int(row[1])\n",
    "        d  = float(row[2])\n",
    "        distMatrix[i][j] = d\n",
    "        distMatrix[j][i] = d\n",
    "        j += 1\n",
    "    f.close()\n",
    "    return distMatrix\n"
   ]
  },
  {
   "cell_type": "code",
   "execution_count": 32,
   "metadata": {
    "collapsed": true
   },
   "outputs": [],
   "source": [
    "import matplotlib.pyplot as plt\n",
    "import seaborn as sns"
   ]
  },
  {
   "cell_type": "code",
   "execution_count": 42,
   "metadata": {
    "collapsed": false
   },
   "outputs": [
    {
     "name": "stdout",
     "output_type": "stream",
     "text": [
      "Fullname =  /home/marco/gdrive/research/nlp/data/v4/2006/doc2vecDistMatrix.txt.2006\n",
      "NDocs =  90\n",
      "[0.         0.05454545 0.10909091 0.16363636 0.21818182 0.27272727\n",
      " 0.32727273 0.38181818 0.43636364 0.49090909 0.54545455 0.6       ]\n"
     ]
    },
    {
     "data": {
      "image/png": "[encoded data removed]",
      "text/plain": [
       "<matplotlib.figure.Figure at 0x7f9b47757a90>"
      ]
     },
     "metadata": {},
     "output_type": "display_data"
    }
   ],
   "source": [
    "distMatrix = readDistMatrix(\"2006\")\n",
    "np.mean(distMatrix)\n",
    "\n",
    "dd = [distMatrix[i][j] for i in range(nDocs) for j in range(nDocs)]\n",
    "\n",
    "bins = np.linspace(0, 0.6, 12)\n",
    "plt.hist(dd,bins=bins,alpha=0.5,edgecolor=\"black\",normed=True)\n",
    "plt.show()"
   ]
  },
  {
   "cell_type": "markdown",
   "metadata": {},
   "source": [
    "Within the same company: Let us examine the distance within the same cik code."
   ]
  },
  {
   "cell_type": "code",
   "execution_count": null,
   "metadata": {
    "collapsed": true
   },
   "outputs": [],
   "source": []
  }
 ],
 "metadata": {
  "kernelspec": {
   "display_name": "Python 3",
   "language": "python",
   "name": "python3"
  },
  "language_info": {
   "codemirror_mode": {
    "name": "ipython",
    "version": 3
   },
   "file_extension": ".py",
   "mimetype": "text/x-python",
   "name": "python",
   "nbconvert_exporter": "python",
   "pygments_lexer": "ipython3",
   "version": "3.5.1"
  }
 },
 "nbformat": 4,
 "nbformat_minor": 2
}
